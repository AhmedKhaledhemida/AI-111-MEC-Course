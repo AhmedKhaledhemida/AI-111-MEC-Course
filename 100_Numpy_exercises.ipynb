{
  "cells": [
    {
      "cell_type": "markdown",
      "id": "3c1222ff",
      "metadata": {
        "id": "3c1222ff"
      },
      "source": [
        "#### 1. Import the numpy package under the name `np` (★☆☆)"
      ]
    },
    {
      "cell_type": "code",
      "execution_count": 2,
      "id": "f52e6a0b",
      "metadata": {
        "id": "f52e6a0b"
      },
      "outputs": [],
      "source": [
        "import numpy as np\n"
      ]
    },
    {
      "cell_type": "markdown",
      "id": "9d9f4753",
      "metadata": {
        "id": "9d9f4753"
      },
      "source": [
        "#### 2. Print the numpy version and the configuration (★☆☆)"
      ]
    },
    {
      "cell_type": "code",
      "execution_count": null,
      "id": "b7fa5fa1",
      "metadata": {
        "id": "b7fa5fa1",
        "colab": {
          "base_uri": "https://localhost:8080/"
        },
        "outputId": "654b910f-9073-4064-90be-c2f22044ac5a"
      },
      "outputs": [
        {
          "output_type": "stream",
          "name": "stdout",
          "text": [
            "Version 1.26.4\n",
            "Build Dependencies:\n",
            "  blas:\n",
            "    detection method: pkgconfig\n",
            "    found: true\n",
            "    include directory: /usr/local/include\n",
            "    lib directory: /usr/local/lib\n",
            "    name: openblas64\n",
            "    openblas configuration: USE_64BITINT=1 DYNAMIC_ARCH=1 DYNAMIC_OLDER= NO_CBLAS=\n",
            "      NO_LAPACK= NO_LAPACKE= NO_AFFINITY=1 USE_OPENMP= HASWELL MAX_THREADS=2\n",
            "    pc file directory: /usr/local/lib/pkgconfig\n",
            "    version: 0.3.23.dev\n",
            "  lapack:\n",
            "    detection method: internal\n",
            "    found: true\n",
            "    include directory: unknown\n",
            "    lib directory: unknown\n",
            "    name: dep139863411681952\n",
            "    openblas configuration: unknown\n",
            "    pc file directory: unknown\n",
            "    version: 1.26.4\n",
            "Compilers:\n",
            "  c:\n",
            "    args: -fno-strict-aliasing\n",
            "    commands: cc\n",
            "    linker: ld.bfd\n",
            "    linker args: -Wl,--strip-debug, -fno-strict-aliasing\n",
            "    name: gcc\n",
            "    version: 10.2.1\n",
            "  c++:\n",
            "    commands: c++\n",
            "    linker: ld.bfd\n",
            "    linker args: -Wl,--strip-debug\n",
            "    name: gcc\n",
            "    version: 10.2.1\n",
            "  cython:\n",
            "    commands: cython\n",
            "    linker: cython\n",
            "    name: cython\n",
            "    version: 3.0.8\n",
            "Machine Information:\n",
            "  build:\n",
            "    cpu: x86_64\n",
            "    endian: little\n",
            "    family: x86_64\n",
            "    system: linux\n",
            "  host:\n",
            "    cpu: x86_64\n",
            "    endian: little\n",
            "    family: x86_64\n",
            "    system: linux\n",
            "Python Information:\n",
            "  path: /opt/python/cp310-cp310/bin/python\n",
            "  version: '3.10'\n",
            "SIMD Extensions:\n",
            "  baseline:\n",
            "  - SSE\n",
            "  - SSE2\n",
            "  - SSE3\n",
            "  found:\n",
            "  - SSSE3\n",
            "  - SSE41\n",
            "  - POPCNT\n",
            "  - SSE42\n",
            "  - AVX\n",
            "  - F16C\n",
            "  - FMA3\n",
            "  - AVX2\n",
            "  not found:\n",
            "  - AVX512F\n",
            "  - AVX512CD\n",
            "  - AVX512_KNL\n",
            "  - AVX512_KNM\n",
            "  - AVX512_SKX\n",
            "  - AVX512_CLX\n",
            "  - AVX512_CNL\n",
            "  - AVX512_ICL\n",
            "\n",
            "None\n"
          ]
        }
      ],
      "source": [
        "#. Print the numpy version and the configuration\n",
        "print(\"Version\",np.__version__)\n",
        "print(np.show_config())"
      ]
    },
    {
      "cell_type": "markdown",
      "id": "3e4c23c6",
      "metadata": {
        "id": "3e4c23c6"
      },
      "source": [
        "#### 3. Create a null vector of size 10 (★☆☆)"
      ]
    },
    {
      "cell_type": "code",
      "execution_count": null,
      "id": "083c5c46",
      "metadata": {
        "id": "083c5c46",
        "colab": {
          "base_uri": "https://localhost:8080/"
        },
        "outputId": "449ba903-497e-432d-b87a-ecc3b96b7a69"
      },
      "outputs": [
        {
          "output_type": "stream",
          "name": "stdout",
          "text": [
            "[0. 0. 0. 0. 0. 0. 0. 0. 0. 0.]\n"
          ]
        }
      ],
      "source": [
        "#Create a null vector of size 10\n",
        "array=np.zeros(10)\n",
        "print(array)"
      ]
    },
    {
      "cell_type": "code",
      "source": [
        "arr=np.array([\"1\",\"2\",\"3\"],dtype=int)\n",
        "for i in arr:\n",
        "    print(type(i))"
      ],
      "metadata": {
        "colab": {
          "base_uri": "https://localhost:8080/"
        },
        "id": "VfWgxJri4ifW",
        "outputId": "1b605ac7-1826-46ad-fa81-82b7664dc251"
      },
      "id": "VfWgxJri4ifW",
      "execution_count": null,
      "outputs": [
        {
          "output_type": "stream",
          "name": "stdout",
          "text": [
            "<class 'numpy.int64'>\n",
            "<class 'numpy.int64'>\n",
            "<class 'numpy.int64'>\n"
          ]
        }
      ]
    },
    {
      "cell_type": "markdown",
      "id": "c38bbe82",
      "metadata": {
        "id": "c38bbe82"
      },
      "source": [
        "#### 4. How to find the memory size of any array (★☆☆)"
      ]
    },
    {
      "cell_type": "code",
      "execution_count": null,
      "id": "02b04021",
      "metadata": {
        "id": "02b04021",
        "colab": {
          "base_uri": "https://localhost:8080/"
        },
        "outputId": "6d650eb5-5beb-4413-e215-d0197caf044f"
      },
      "outputs": [
        {
          "output_type": "stream",
          "name": "stdout",
          "text": [
            "int64\n"
          ]
        }
      ],
      "source": [
        "#How to find the memory size of any array\n",
        "array=np.array([1,2,3])\n",
        "print(array.dtype)"
      ]
    },
    {
      "cell_type": "markdown",
      "id": "67f893d4",
      "metadata": {
        "id": "67f893d4"
      },
      "source": [
        "#### 5. How to get the documentation of the numpy add function from the command line? (★☆☆)"
      ]
    },
    {
      "cell_type": "code",
      "execution_count": null,
      "id": "40e6b70d",
      "metadata": {
        "id": "40e6b70d",
        "colab": {
          "base_uri": "https://localhost:8080/"
        },
        "outputId": "38417c5e-19ef-46bb-d73c-3dc8f16d94a7"
      },
      "outputs": [
        {
          "output_type": "stream",
          "name": "stdout",
          "text": [
            "add(x1, x2, /, out=None, *, where=True, casting='same_kind', order='K', dtype=None, subok=True[, signature, extobj])\n",
            "\n",
            "Add arguments element-wise.\n",
            "\n",
            "Parameters\n",
            "----------\n",
            "x1, x2 : array_like\n",
            "    The arrays to be added.\n",
            "    If ``x1.shape != x2.shape``, they must be broadcastable to a common\n",
            "    shape (which becomes the shape of the output).\n",
            "out : ndarray, None, or tuple of ndarray and None, optional\n",
            "    A location into which the result is stored. If provided, it must have\n",
            "    a shape that the inputs broadcast to. If not provided or None,\n",
            "    a freshly-allocated array is returned. A tuple (possible only as a\n",
            "    keyword argument) must have length equal to the number of outputs.\n",
            "where : array_like, optional\n",
            "    This condition is broadcast over the input. At locations where the\n",
            "    condition is True, the `out` array will be set to the ufunc result.\n",
            "    Elsewhere, the `out` array will retain its original value.\n",
            "    Note that if an uninitialized `out` array is created via the default\n",
            "    ``out=None``, locations within it where the condition is False will\n",
            "    remain uninitialized.\n",
            "**kwargs\n",
            "    For other keyword-only arguments, see the\n",
            "    :ref:`ufunc docs <ufuncs.kwargs>`.\n",
            "\n",
            "Returns\n",
            "-------\n",
            "add : ndarray or scalar\n",
            "    The sum of `x1` and `x2`, element-wise.\n",
            "    This is a scalar if both `x1` and `x2` are scalars.\n",
            "\n",
            "Notes\n",
            "-----\n",
            "Equivalent to `x1` + `x2` in terms of array broadcasting.\n",
            "\n",
            "Examples\n",
            "--------\n",
            ">>> np.add(1.0, 4.0)\n",
            "5.0\n",
            ">>> x1 = np.arange(9.0).reshape((3, 3))\n",
            ">>> x2 = np.arange(3.0)\n",
            ">>> np.add(x1, x2)\n",
            "array([[  0.,   2.,   4.],\n",
            "       [  3.,   5.,   7.],\n",
            "       [  6.,   8.,  10.]])\n",
            "\n",
            "The ``+`` operator can be used as a shorthand for ``np.add`` on ndarrays.\n",
            "\n",
            ">>> x1 = np.arange(9.0).reshape((3, 3))\n",
            ">>> x2 = np.arange(3.0)\n",
            ">>> x1 + x2\n",
            "array([[ 0.,  2.,  4.],\n",
            "       [ 3.,  5.,  7.],\n",
            "       [ 6.,  8., 10.]])\n"
          ]
        }
      ],
      "source": [
        "np.info(np.add)"
      ]
    },
    {
      "cell_type": "markdown",
      "id": "e0c739c6",
      "metadata": {
        "id": "e0c739c6"
      },
      "source": [
        "#### 6. Create a null vector of size 10 but the fifth value which is 1 (★☆☆)"
      ]
    },
    {
      "cell_type": "code",
      "execution_count": null,
      "id": "bcceacf7",
      "metadata": {
        "id": "bcceacf7",
        "colab": {
          "base_uri": "https://localhost:8080/"
        },
        "outputId": "76706c56-11a5-4cdf-88bf-721df1c60322"
      },
      "outputs": [
        {
          "output_type": "stream",
          "name": "stdout",
          "text": [
            "[0. 0. 0. 0. 1. 0. 0. 0. 0. 0.]\n"
          ]
        }
      ],
      "source": [
        "array=np.zeros(10)\n",
        "array[4]=1\n",
        "print(array)"
      ]
    },
    {
      "cell_type": "markdown",
      "id": "fbebedab",
      "metadata": {
        "id": "fbebedab"
      },
      "source": [
        "#### 7. Create a vector with values ranging from 10 to 49 (★☆☆)"
      ]
    },
    {
      "cell_type": "code",
      "execution_count": null,
      "id": "3d117d54",
      "metadata": {
        "id": "3d117d54",
        "colab": {
          "base_uri": "https://localhost:8080/"
        },
        "outputId": "dd29d108-b1a9-47e8-b4a9-7ef9ae3c9ca3"
      },
      "outputs": [
        {
          "output_type": "stream",
          "name": "stdout",
          "text": [
            "[10 11 12 13 14 15 16 17 18 19 20 21 22 23 24 25 26 27 28 29 30 31 32 33\n",
            " 34 35 36 37 38 39 40 41 42 43 44 45 46 47 48 49]\n"
          ]
        }
      ],
      "source": [
        "array=np.array(range(10,50))\n",
        "print(array)\n"
      ]
    },
    {
      "cell_type": "markdown",
      "id": "ad0bff02",
      "metadata": {
        "id": "ad0bff02"
      },
      "source": [
        "#### 8. Reverse a vector (first element becomes last) (★☆☆)"
      ]
    },
    {
      "cell_type": "code",
      "source": [
        "array=np.arange(1,11)\n",
        "print(array)\n",
        "reverse=array[::-1]\n",
        "print(reverse)"
      ],
      "metadata": {
        "colab": {
          "base_uri": "https://localhost:8080/"
        },
        "id": "CxpYs9heAvfu",
        "outputId": "f0a39d61-bb14-4ad0-814b-89dc4bc47743"
      },
      "id": "CxpYs9heAvfu",
      "execution_count": null,
      "outputs": [
        {
          "output_type": "stream",
          "name": "stdout",
          "text": [
            "[ 1  2  3  4  5  6  7  8  9 10]\n",
            "[10  9  8  7  6  5  4  3  2  1]\n"
          ]
        }
      ]
    },
    {
      "cell_type": "markdown",
      "id": "9f59d7e1",
      "metadata": {
        "id": "9f59d7e1"
      },
      "source": [
        "#### 9. Create a 3x3 matrix with values ranging from 0 to 8 (★☆☆)"
      ]
    },
    {
      "cell_type": "code",
      "execution_count": null,
      "id": "7449e82d",
      "metadata": {
        "id": "7449e82d",
        "colab": {
          "base_uri": "https://localhost:8080/"
        },
        "outputId": "e3025e64-32f8-4ba0-fad3-464c7e54c7d8"
      },
      "outputs": [
        {
          "output_type": "stream",
          "name": "stdout",
          "text": [
            "[[0 1 2]\n",
            " [3 4 5]\n",
            " [6 7 8]]\n"
          ]
        }
      ],
      "source": [
        "matrix=np.arange(0,9).reshape(3,3)\n",
        "print(matrix)"
      ]
    },
    {
      "cell_type": "markdown",
      "id": "f374c4cf",
      "metadata": {
        "id": "f374c4cf"
      },
      "source": [
        "#### 10. Find indices of non-zero elements from [1,2,0,0,4,0] (★☆☆)"
      ]
    },
    {
      "cell_type": "code",
      "execution_count": null,
      "id": "1a84bed8",
      "metadata": {
        "id": "1a84bed8",
        "colab": {
          "base_uri": "https://localhost:8080/"
        },
        "outputId": "8652e653-88b0-43a2-bd09-9651e61db77b"
      },
      "outputs": [
        {
          "output_type": "stream",
          "name": "stdout",
          "text": [
            "[0 1 4]\n"
          ]
        }
      ],
      "source": [
        "array = np.array([1, 2, 0, 0, 4, 0])\n",
        "\n",
        "non_zero_indices = np.nonzero(array)[0]\n",
        "print(non_zero_indices)"
      ]
    },
    {
      "cell_type": "markdown",
      "id": "9c4707f5",
      "metadata": {
        "id": "9c4707f5"
      },
      "source": [
        "#### 11. Create a 3x3 identity matrix (★☆☆)"
      ]
    },
    {
      "cell_type": "code",
      "execution_count": null,
      "id": "29dc1fd3",
      "metadata": {
        "id": "29dc1fd3",
        "colab": {
          "base_uri": "https://localhost:8080/"
        },
        "outputId": "14f194d7-9977-4503-cc03-41b369977af1"
      },
      "outputs": [
        {
          "output_type": "stream",
          "name": "stdout",
          "text": [
            "[[1. 0. 0.]\n",
            " [0. 1. 0.]\n",
            " [0. 0. 1.]]\n"
          ]
        }
      ],
      "source": [
        "identity_matrix = np.eye(3)\n",
        "\n",
        "print(identity_matrix)"
      ]
    },
    {
      "cell_type": "markdown",
      "id": "3bac294a",
      "metadata": {
        "id": "3bac294a"
      },
      "source": [
        "#### 12. Create a 3x3x3 array with random values (★☆☆)"
      ]
    },
    {
      "cell_type": "code",
      "execution_count": null,
      "id": "eadfae67",
      "metadata": {
        "id": "eadfae67",
        "colab": {
          "base_uri": "https://localhost:8080/"
        },
        "outputId": "f219061f-3396-4998-eb0e-38fb5d55618a"
      },
      "outputs": [
        {
          "output_type": "stream",
          "name": "stdout",
          "text": [
            "[[0.26453404 0.37550428 0.07266693]\n",
            " [0.15243241 0.61454533 0.97894051]\n",
            " [0.09628245 0.54419838 0.24820959]]\n"
          ]
        }
      ],
      "source": [
        "matrix=np.random.rand(3,3)\n",
        "print(matrix)"
      ]
    },
    {
      "cell_type": "markdown",
      "id": "466c2989",
      "metadata": {
        "id": "466c2989"
      },
      "source": [
        "#### 13. Create a 10x10 array with random values and find the minimum and maximum values (★☆☆)"
      ]
    },
    {
      "cell_type": "code",
      "execution_count": null,
      "id": "9a74dbfc",
      "metadata": {
        "id": "9a74dbfc",
        "colab": {
          "base_uri": "https://localhost:8080/"
        },
        "outputId": "51b13e6f-933a-432e-b8bb-b2e23f52888e"
      },
      "outputs": [
        {
          "output_type": "stream",
          "name": "stdout",
          "text": [
            "Min_Value= 0.013786642000760185\n",
            "Max_Value= 0.9843286736891526\n",
            "[[0.88980285 0.53942113 0.34988774 0.64873243 0.44675055 0.95495615\n",
            "  0.91272195 0.44740462 0.39830292 0.15380409]\n",
            " [0.17404814 0.27187497 0.55867147 0.50479077 0.3204373  0.85339823\n",
            "  0.62672753 0.21756243 0.94971822 0.64741164]\n",
            " [0.8294808  0.66186799 0.0281789  0.55653144 0.06163387 0.01378664\n",
            "  0.51911143 0.4500179  0.79673107 0.08470087]\n",
            " [0.35717167 0.55141689 0.33179157 0.93113172 0.59590787 0.73805152\n",
            "  0.39437012 0.14889191 0.74348171 0.66082476]\n",
            " [0.41658994 0.53651334 0.28195907 0.28128927 0.50942956 0.4973675\n",
            "  0.54573275 0.70071575 0.5410146  0.33197226]\n",
            " [0.58289182 0.02477223 0.31166391 0.65799375 0.71108214 0.7524921\n",
            "  0.92011694 0.21459899 0.79536519 0.33614684]\n",
            " [0.03178879 0.98432867 0.78457856 0.20977375 0.66030369 0.61180689\n",
            "  0.3885152  0.85280777 0.21316071 0.85504566]\n",
            " [0.48996356 0.30393229 0.18583555 0.84429114 0.66271768 0.31880202\n",
            "  0.69952625 0.72408571 0.03519755 0.49215039]\n",
            " [0.12973658 0.67593941 0.03859666 0.9677472  0.28832665 0.79703416\n",
            "  0.23594826 0.6582583  0.74367515 0.34000829]\n",
            " [0.3685725  0.35610869 0.83397116 0.36683703 0.51229331 0.43430831\n",
            "  0.21494532 0.17720248 0.54074629 0.97039339]]\n"
          ]
        }
      ],
      "source": [
        "arr=np.random.rand(10,10)\n",
        "min_value=np.min(arr)\n",
        "max_value=np.max(arr)\n",
        "print(\"Min_Value=\",min_value)\n",
        "print(\"Max_Value=\",max_value)\n",
        "print(arr)"
      ]
    },
    {
      "cell_type": "markdown",
      "id": "53a8edb2",
      "metadata": {
        "id": "53a8edb2"
      },
      "source": [
        "#### 14. Create a random vector of size 30 and find the mean value (★☆☆)"
      ]
    },
    {
      "cell_type": "code",
      "execution_count": null,
      "id": "6691530b",
      "metadata": {
        "id": "6691530b",
        "colab": {
          "base_uri": "https://localhost:8080/"
        },
        "outputId": "a436afba-3d65-4b5f-e2e2-c65bc612e4bb"
      },
      "outputs": [
        {
          "output_type": "stream",
          "name": "stdout",
          "text": [
            "Mean_value= 0.5087813545851214\n",
            "[0.76887393 0.21988681 0.50306768 0.7039107  0.045268   0.17957184\n",
            " 0.33448735 0.73608193 0.21176108 0.43302486 0.29493046 0.97044088\n",
            " 0.33140364 0.87675165 0.16885283 0.34001206 0.40869485 0.61196779\n",
            " 0.46595741 0.83592227 0.6103261  0.82259474 0.20514254 0.95453353\n",
            " 0.36727422 0.47048119 0.94046388 0.85765375 0.22810951 0.36599313]\n"
          ]
        }
      ],
      "source": [
        "arr=np.random.rand(30)\n",
        "mean_value=np.mean(arr)\n",
        "print(\"Mean_value=\",mean_value)\n",
        "print(arr)"
      ]
    },
    {
      "cell_type": "markdown",
      "id": "cbaad31c",
      "metadata": {
        "id": "cbaad31c"
      },
      "source": [
        "#### 15. Create a 2d array with 1 on the border and 0 inside (★☆☆)"
      ]
    },
    {
      "cell_type": "code",
      "execution_count": null,
      "id": "ad8308e3",
      "metadata": {
        "id": "ad8308e3",
        "colab": {
          "base_uri": "https://localhost:8080/"
        },
        "outputId": "a1002c2c-7b47-4d0b-c790-9c26aba7ea9c"
      },
      "outputs": [
        {
          "output_type": "stream",
          "name": "stdout",
          "text": [
            "[[1. 1. 1. 1. 1.]\n",
            " [1. 0. 0. 0. 1.]\n",
            " [1. 0. 0. 0. 1.]\n",
            " [1. 0. 0. 0. 1.]\n",
            " [1. 1. 1. 1. 1.]]\n"
          ]
        }
      ],
      "source": [
        "arr=np.ones((5,5))\n",
        "arr[1:-1,1:-1]=0\n",
        "print(arr)"
      ]
    },
    {
      "cell_type": "markdown",
      "id": "c5ecc267",
      "metadata": {
        "id": "c5ecc267"
      },
      "source": [
        "#### 16. How to add a border (filled with 0's) around an existing array? (★☆☆)"
      ]
    },
    {
      "cell_type": "code",
      "source": [
        "existing_array = np.ones((3, 3))\n",
        "\n",
        "bordered_array = np.pad(existing_array, pad_width=1, mode='constant', constant_values=0)\n",
        "print(bordered_array)"
      ],
      "metadata": {
        "colab": {
          "base_uri": "https://localhost:8080/"
        },
        "id": "hdIlXSGfq_sv",
        "outputId": "0fe1a761-b6bb-4241-e7e8-943f6e3f5666"
      },
      "id": "hdIlXSGfq_sv",
      "execution_count": null,
      "outputs": [
        {
          "output_type": "stream",
          "name": "stdout",
          "text": [
            "[[0. 0. 0. 0. 0.]\n",
            " [0. 1. 1. 1. 0.]\n",
            " [0. 1. 1. 1. 0.]\n",
            " [0. 1. 1. 1. 0.]\n",
            " [0. 0. 0. 0. 0.]]\n"
          ]
        }
      ]
    },
    {
      "cell_type": "markdown",
      "id": "ef909b72",
      "metadata": {
        "id": "ef909b72"
      },
      "source": [
        "#### 17. What is the result of the following expression? (★☆☆)\n",
        "```python\n",
        "0 * np.nan\n",
        "np.nan == np.nan\n",
        "np.inf > np.nan\n",
        "np.nan - np.nan\n",
        "np.nan in set([np.nan])\n",
        "0.3 == 3 * 0.1\n",
        "```"
      ]
    },
    {
      "cell_type": "code",
      "execution_count": null,
      "id": "3b4985f2",
      "metadata": {
        "id": "3b4985f2"
      },
      "outputs": [],
      "source": [
        "#0 * np.nan → nan\n",
        "# np.nan == np.nan → False\n",
        "# np.inf > np.nan → False\n",
        "# np.nan - np.nan → nan\n",
        "# np.nan in set([np.nan]) → True\n",
        "# 0.3 == 3 * 0.1 → False"
      ]
    },
    {
      "cell_type": "markdown",
      "id": "502738ac",
      "metadata": {
        "id": "502738ac"
      },
      "source": [
        "#### 18. Create a 5x5 matrix with values 1,2,3,4 just below the diagonal (★☆☆)"
      ]
    },
    {
      "cell_type": "code",
      "execution_count": null,
      "id": "faed6e2b",
      "metadata": {
        "id": "faed6e2b",
        "colab": {
          "base_uri": "https://localhost:8080/"
        },
        "outputId": "c582e727-5575-4ed7-f2ff-84e1b0aff5b0"
      },
      "outputs": [
        {
          "output_type": "stream",
          "name": "stdout",
          "text": [
            "[[0. 0. 0. 0. 0.]\n",
            " [1. 0. 0. 0. 0.]\n",
            " [0. 2. 0. 0. 0.]\n",
            " [0. 0. 3. 0. 0.]\n",
            " [0. 0. 0. 4. 0.]]\n"
          ]
        }
      ],
      "source": [
        "matrix = np.zeros((5, 5))\n",
        "\n",
        "for i in range(1, 5):\n",
        "    matrix[i, i-1] = i\n",
        "\n",
        "print(matrix)"
      ]
    },
    {
      "cell_type": "markdown",
      "id": "a65da660",
      "metadata": {
        "id": "a65da660"
      },
      "source": [
        "#### 19. Create a 8x8 matrix and fill it with a checkerboard pattern (★☆☆)"
      ]
    },
    {
      "cell_type": "code",
      "execution_count": null,
      "id": "ed150400",
      "metadata": {
        "id": "ed150400",
        "colab": {
          "base_uri": "https://localhost:8080/"
        },
        "outputId": "250bf058-d02e-42a4-fdf0-e653fc5a4d9e"
      },
      "outputs": [
        {
          "output_type": "stream",
          "name": "stdout",
          "text": [
            "[[0 1 0 1 0 1 0 1]\n",
            " [1 0 1 0 1 0 1 0]\n",
            " [0 1 0 1 0 1 0 1]\n",
            " [1 0 1 0 1 0 1 0]\n",
            " [0 1 0 1 0 1 0 1]\n",
            " [1 0 1 0 1 0 1 0]\n",
            " [0 1 0 1 0 1 0 1]\n",
            " [1 0 1 0 1 0 1 0]]\n"
          ]
        }
      ],
      "source": [
        "checkerboard_pattern =(np.indices((8,8)).sum(axis=0)% 2)\n",
        "print(checkerboard_pattern)"
      ]
    },
    {
      "cell_type": "markdown",
      "id": "9f7f9c49",
      "metadata": {
        "id": "9f7f9c49"
      },
      "source": [
        "#### 20. Consider a (6,7,8) shape array, what is the index (x,y,z) of the 100th element? (★☆☆)"
      ]
    },
    {
      "cell_type": "code",
      "execution_count": null,
      "id": "3782b5a9",
      "metadata": {
        "id": "3782b5a9",
        "colab": {
          "base_uri": "https://localhost:8080/"
        },
        "outputId": "8626c4c0-f286-451c-d643-c728caadf010"
      },
      "outputs": [
        {
          "output_type": "execute_result",
          "data": {
            "text/plain": [
              "(1, 5, 4)"
            ]
          },
          "metadata": {},
          "execution_count": 54
        }
      ],
      "source": [
        "\n",
        "shape = (6, 7, 8)\n",
        "\n",
        "index = 100\n",
        "\n",
        "x = index // (shape[1] * shape[2])\n",
        "y = (index % (shape[1] * shape[2])) // shape[2]\n",
        "z = index % shape[2]\n",
        "\n",
        "(x, y, z)\n"
      ]
    },
    {
      "cell_type": "markdown",
      "id": "66bfda35",
      "metadata": {
        "id": "66bfda35"
      },
      "source": [
        "#### 21. Create a checkerboard 8x8 matrix using the tile function (★☆☆)"
      ]
    },
    {
      "cell_type": "code",
      "execution_count": null,
      "id": "4c07477c",
      "metadata": {
        "id": "4c07477c",
        "colab": {
          "base_uri": "https://localhost:8080/"
        },
        "outputId": "93dc3ddd-fb3f-4efc-c023-15bda8c2db56"
      },
      "outputs": [
        {
          "output_type": "stream",
          "name": "stdout",
          "text": [
            "[[0 1 0 1 0 1 0 1]\n",
            " [1 0 1 0 1 0 1 0]\n",
            " [0 1 0 1 0 1 0 1]\n",
            " [1 0 1 0 1 0 1 0]\n",
            " [0 1 0 1 0 1 0 1]\n",
            " [1 0 1 0 1 0 1 0]\n",
            " [0 1 0 1 0 1 0 1]\n",
            " [1 0 1 0 1 0 1 0]]\n"
          ]
        }
      ],
      "source": [
        "pattern = np.array([[0, 1],\n",
        "                    [1, 0]])\n",
        "checkerboard = np.tile(pattern, (4, 4))\n",
        "\n",
        "print(checkerboard)"
      ]
    },
    {
      "cell_type": "markdown",
      "id": "d5bcfc08",
      "metadata": {
        "id": "d5bcfc08"
      },
      "source": [
        "#### 22. Normalize a 5x5 random matrix (★☆☆)"
      ]
    },
    {
      "cell_type": "code",
      "execution_count": null,
      "id": "cea6c993",
      "metadata": {
        "id": "cea6c993",
        "colab": {
          "base_uri": "https://localhost:8080/"
        },
        "outputId": "7384a940-83b8-4a02-cac6-49802a38c888"
      },
      "outputs": [
        {
          "output_type": "stream",
          "name": "stdout",
          "text": [
            "[[-0.73886192  1.4572989  -1.48880263  0.35845325 -1.07296296]\n",
            " [-1.50338732  0.19998617 -1.08901356  1.47935149 -0.05896404]\n",
            " [-1.06972882 -0.65590628  1.30650502 -1.14847906 -0.74975726]\n",
            " [ 0.86082556  0.75803822  0.88474407 -0.18001228  1.08703978]\n",
            " [ 0.29938149 -1.03551013 -0.45757844  1.4194331   1.13790764]]\n"
          ]
        }
      ],
      "source": [
        "arr=np.random.rand(5,5)\n",
        "mean=np.mean(arr)\n",
        "std=np.std(arr)\n",
        "normalized_matrix=(arr-mean)/std\n",
        "print(normalized_matrix)"
      ]
    },
    {
      "cell_type": "markdown",
      "id": "f9a0911e",
      "metadata": {
        "id": "f9a0911e"
      },
      "source": [
        "#### 23. Create a custom dtype that describes a color as four unsigned bytes (RGBA) (★☆☆)"
      ]
    },
    {
      "cell_type": "code",
      "execution_count": null,
      "id": "d165044b",
      "metadata": {
        "id": "d165044b",
        "colab": {
          "base_uri": "https://localhost:8080/"
        },
        "outputId": "037f3678-18b1-4f4d-f4cc-9ab78be2f3f4"
      },
      "outputs": [
        {
          "output_type": "stream",
          "name": "stdout",
          "text": [
            "[(255,   0,   0, 255) (  0, 255,   0, 128) (  0,   0, 255,  64)]\n"
          ]
        }
      ],
      "source": [
        "color_dtype = np.dtype([\n",
        "    ('red', np.uint8),\n",
        "    ('green', np.uint8),\n",
        "    ('blue', np.uint8),\n",
        "    ('alpha', np.uint8)\n",
        "])\n",
        "colors = np.array([(255, 0, 0, 255),\n",
        "                   (0, 255, 0, 128),\n",
        "                   (0, 0, 255, 64)],\n",
        "                 dtype=color_dtype)\n",
        "\n",
        "print(colors)"
      ]
    },
    {
      "cell_type": "markdown",
      "id": "654805b1",
      "metadata": {
        "id": "654805b1"
      },
      "source": [
        "#### 24. Multiply a 5x3 matrix by a 3x2 matrix (real matrix product) (★☆☆)"
      ]
    },
    {
      "cell_type": "code",
      "execution_count": null,
      "id": "6a42619f",
      "metadata": {
        "id": "6a42619f",
        "colab": {
          "base_uri": "https://localhost:8080/"
        },
        "outputId": "1b635ed7-1b52-4a67-f65d-2014f2d6bc5e"
      },
      "outputs": [
        {
          "output_type": "stream",
          "name": "stdout",
          "text": [
            "[[0.82948835 0.62370879]\n",
            " [0.93281215 0.73994952]\n",
            " [0.24782055 0.16566131]\n",
            " [0.58309664 0.41121705]\n",
            " [1.13393356 0.8422353 ]]\n"
          ]
        }
      ],
      "source": [
        "matrix1=np.random.rand(5,3)\n",
        "matrix2=np.random.rand(3,2)\n",
        "real_matrix_product=np.dot(matrix1,matrix2)\n",
        "print(real_matrix_product)"
      ]
    },
    {
      "cell_type": "markdown",
      "id": "994c25df",
      "metadata": {
        "id": "994c25df"
      },
      "source": [
        "#### 25. Given a 1D array, negate all elements which are between 3 and 8, in place. (★☆☆)"
      ]
    },
    {
      "cell_type": "code",
      "execution_count": null,
      "id": "e4b39c03",
      "metadata": {
        "id": "e4b39c03",
        "colab": {
          "base_uri": "https://localhost:8080/"
        },
        "outputId": "088b55ab-fe95-4a5f-f8bc-5b3837449e28"
      },
      "outputs": [
        {
          "output_type": "stream",
          "name": "stdout",
          "text": [
            "[ 1  2 -1 -1 -1 -1 -1 -1  9 10]\n"
          ]
        }
      ],
      "source": [
        "matrix=np.arange(1,11)\n",
        "matrix[(matrix>=3) & (matrix<=8)]*=-1\n",
        "print(matrix)"
      ]
    },
    {
      "cell_type": "markdown",
      "id": "b7d15d1a",
      "metadata": {
        "id": "b7d15d1a"
      },
      "source": [
        "#### 26. What is the output of the following script? (★☆☆)\n",
        "```python\n",
        "# Author: Jake VanderPlas\n",
        "\n",
        "print(sum(range(5),-1))\n",
        "from numpy import *\n",
        "print(sum(range(5),-1))\n",
        "```"
      ]
    },
    {
      "cell_type": "code",
      "execution_count": null,
      "id": "4c95bc3f",
      "metadata": {
        "id": "4c95bc3f"
      },
      "outputs": [],
      "source": [
        "# print(sum(range(5), -1)) using Python's built-in sum: Output is 9.\n",
        "# print(sum(range(5), -1)) using NumPy's sum: Output is 10.!"
      ]
    },
    {
      "cell_type": "markdown",
      "id": "a34f0d08",
      "metadata": {
        "id": "a34f0d08"
      },
      "source": [
        "#### 27. Consider an integer vector Z, which of these expressions are legal? (★☆☆)\n",
        "```python\n",
        "Z**Z\n",
        "2 << Z >> 2\n",
        "Z <- Z\n",
        "1j*Z\n",
        "Z/1/1\n",
        "Z<Z>Z\n",
        "```"
      ]
    },
    {
      "cell_type": "code",
      "execution_count": null,
      "id": "564658fc",
      "metadata": {
        "id": "564658fc"
      },
      "outputs": [],
      "source": [
        "# Legal Expressions:\n",
        "# Z**Z\n",
        "# 2 << Z >> 2\n",
        "# 1j*Z\n",
        "# Z/1/1\n",
        "# Illegal Expression:\n",
        "# Z <- Z (This is not legal in Python and will cause a syntax error)."
      ]
    },
    {
      "cell_type": "markdown",
      "id": "c34e94bf",
      "metadata": {
        "id": "c34e94bf"
      },
      "source": [
        "#### 28. What are the result of the following expressions? (★☆☆)\n",
        "```python\n",
        "np.array(0) / np.array(0)\n",
        "np.array(0) // np.array(0)\n",
        "np.array([np.nan]).astype(int).astype(float)\n",
        "```"
      ]
    },
    {
      "cell_type": "code",
      "execution_count": null,
      "id": "56663562",
      "metadata": {
        "id": "56663562"
      },
      "outputs": [],
      "source": [
        "# nan\n",
        "# 0\n",
        "# array([-9.22337204e+18])"
      ]
    },
    {
      "cell_type": "markdown",
      "id": "546f5e7b",
      "metadata": {
        "id": "546f5e7b"
      },
      "source": [
        "#### 29. How to round away from zero a float array ? (★☆☆)"
      ]
    },
    {
      "cell_type": "code",
      "execution_count": null,
      "id": "f725a6d2",
      "metadata": {
        "id": "f725a6d2",
        "colab": {
          "base_uri": "https://localhost:8080/"
        },
        "outputId": "71879522-8ad0-4df9-ff2c-4a69284d1ead"
      },
      "outputs": [
        {
          "output_type": "stream",
          "name": "stdout",
          "text": [
            "[4. 1. 7. 3. 1. 8. 3. 3. 4. 2.]\n"
          ]
        }
      ],
      "source": [
        "\n",
        "rr = np.array([-1.5, -2.3, 2.3, 1.5, 0.2, -0.2])\n",
        "\n",
        "# Round away from zero\n",
        "rounded = np.copysign(np.ceil(np.abs(arr)), arr)\n",
        "\n",
        "print(rounded)\n"
      ]
    },
    {
      "cell_type": "markdown",
      "id": "eadca856",
      "metadata": {
        "id": "eadca856"
      },
      "source": [
        "#### 30. How to find common values between two arrays? (★☆☆)"
      ]
    },
    {
      "cell_type": "code",
      "execution_count": null,
      "id": "e0270b5b",
      "metadata": {
        "id": "e0270b5b",
        "colab": {
          "base_uri": "https://localhost:8080/"
        },
        "outputId": "bd9aec1a-6fe6-4a85-de55-c25dab6e43ed"
      },
      "outputs": [
        {
          "output_type": "stream",
          "name": "stdout",
          "text": [
            "[3 4 5]\n"
          ]
        }
      ],
      "source": [
        "#  How to find common values between two arrays?\n",
        "arr1=np.array((1,2,3,4,5))\n",
        "arr2=np.array((3,4,5,6,7))\n",
        "comman=np.intersect1d(arr1,arr2)\n",
        "print(comman)"
      ]
    },
    {
      "cell_type": "markdown",
      "id": "ca16ca22",
      "metadata": {
        "id": "ca16ca22"
      },
      "source": [
        "#### 31. How to ignore all numpy warnings (not recommended)? (★☆☆)"
      ]
    },
    {
      "cell_type": "code",
      "execution_count": null,
      "id": "7d7208ef",
      "metadata": {
        "id": "7d7208ef",
        "colab": {
          "base_uri": "https://localhost:8080/"
        },
        "outputId": "7e1aee66-6a70-4096-a60e-b01e785405a3"
      },
      "outputs": [
        {
          "output_type": "stream",
          "name": "stdout",
          "text": [
            "[inf inf inf]\n"
          ]
        }
      ],
      "source": [
        "# . How to ignore all numpy warnings (not recommended)?\n",
        "\n",
        "import numpy as np\n",
        "import warnings\n",
        "\n",
        "# Suppress all warnings\n",
        "warnings.filterwarnings('ignore', category=Warning)\n",
        "\n",
        "# Example of a NumPy operation that might trigger a warning\n",
        "array1 = np.array([1, 2, 3])\n",
        "array2 = np.array([0, 0, 0])\n",
        "result = array1 / array2  # This will trigger a divide-by-zero warning\n",
        "\n",
        "print(result)"
      ]
    },
    {
      "cell_type": "markdown",
      "id": "c7871d0d",
      "metadata": {
        "id": "c7871d0d"
      },
      "source": [
        "#### 32. Is the following expressions true? (★☆☆)\n",
        "```python\n",
        "np.sqrt(-1) == np.emath.sqrt(-1)\n",
        "```"
      ]
    },
    {
      "cell_type": "code",
      "execution_count": null,
      "id": "acc3701a",
      "metadata": {
        "id": "acc3701a"
      },
      "outputs": [],
      "source": [
        "# false"
      ]
    },
    {
      "cell_type": "markdown",
      "id": "e0433e30",
      "metadata": {
        "id": "e0433e30"
      },
      "source": [
        "#### 33. How to get the dates of yesterday, today and tomorrow? (★☆☆)"
      ]
    },
    {
      "cell_type": "code",
      "execution_count": null,
      "id": "9c4d2152",
      "metadata": {
        "id": "9c4d2152",
        "colab": {
          "base_uri": "https://localhost:8080/"
        },
        "outputId": "71cd6229-163c-4797-cac1-8eea8e7a3ef6"
      },
      "outputs": [
        {
          "output_type": "stream",
          "name": "stdout",
          "text": [
            "Yesterday= 2024-08-27 22:36:04.517245\n",
            "Today= 2024-08-28 22:36:04.517245\n",
            "Tomorrow= 2024-08-29 22:36:04.517245\n"
          ]
        }
      ],
      "source": [
        "from datetime import datetime,timedelta\n",
        "today=datetime.now()\n",
        "yesterday=today-timedelta(days=1)\n",
        "tomorrow=today+timedelta(days=1)\n",
        "print(\"Yesterday=\",yesterday)\n",
        "print(\"Today=\",today)\n",
        "print(\"Tomorrow=\",tomorrow)"
      ]
    },
    {
      "cell_type": "markdown",
      "id": "9f52a2ef",
      "metadata": {
        "id": "9f52a2ef"
      },
      "source": [
        "#### 34. How to get all the dates corresponding to the month of July 2016? (★★☆)"
      ]
    },
    {
      "cell_type": "code",
      "execution_count": null,
      "id": "d6c34dec",
      "metadata": {
        "id": "d6c34dec",
        "colab": {
          "base_uri": "https://localhost:8080/"
        },
        "outputId": "d3030fe5-5bb5-4443-c891-9ff800d904ff"
      },
      "outputs": [
        {
          "output_type": "stream",
          "name": "stdout",
          "text": [
            "2016-07-01 00:00:00\n",
            "2016-07-02 00:00:00\n",
            "2016-07-03 00:00:00\n",
            "2016-07-04 00:00:00\n",
            "2016-07-05 00:00:00\n",
            "2016-07-06 00:00:00\n",
            "2016-07-07 00:00:00\n",
            "2016-07-08 00:00:00\n",
            "2016-07-09 00:00:00\n",
            "2016-07-10 00:00:00\n",
            "2016-07-11 00:00:00\n",
            "2016-07-12 00:00:00\n",
            "2016-07-13 00:00:00\n",
            "2016-07-14 00:00:00\n",
            "2016-07-15 00:00:00\n",
            "2016-07-16 00:00:00\n",
            "2016-07-17 00:00:00\n",
            "2016-07-18 00:00:00\n",
            "2016-07-19 00:00:00\n",
            "2016-07-20 00:00:00\n",
            "2016-07-21 00:00:00\n",
            "2016-07-22 00:00:00\n",
            "2016-07-23 00:00:00\n",
            "2016-07-24 00:00:00\n",
            "2016-07-25 00:00:00\n",
            "2016-07-26 00:00:00\n",
            "2016-07-27 00:00:00\n",
            "2016-07-28 00:00:00\n",
            "2016-07-29 00:00:00\n",
            "2016-07-30 00:00:00\n",
            "2016-07-31 00:00:00\n"
          ]
        }
      ],
      "source": [
        "from datetime import datetime,timedelta\n",
        "start_date=datetime(2016,7,1)\n",
        "last_date=datetime(2016,7,31)\n",
        "currentdate=start_date\n",
        "while (currentdate<=last_date):\n",
        "    print(currentdate)\n",
        "    currentdate+=timedelta(days=1)\n"
      ]
    },
    {
      "cell_type": "markdown",
      "id": "4a64e059",
      "metadata": {
        "id": "4a64e059"
      },
      "source": [
        "#### 35. How to compute ((A+B)*(-A/2)) in place (without copy)? (★★☆)"
      ]
    },
    {
      "cell_type": "code",
      "execution_count": null,
      "id": "49267f60",
      "metadata": {
        "id": "49267f60",
        "colab": {
          "base_uri": "https://localhost:8080/"
        },
        "outputId": "a9d55849-c8da-4a51-990c-f46eb046e737"
      },
      "outputs": [
        {
          "output_type": "stream",
          "name": "stdout",
          "text": [
            "[ -2.5  -7.  -13.5]\n"
          ]
        }
      ],
      "source": [
        "A = np.array([1, 2, 3], dtype=float)\n",
        "B = np.array([4, 5, 6], dtype=float)\n",
        "np.add(A,B,out=B)\n",
        "np.divide(A,2,out=A)\n",
        "np.negative(A,out=A)\n",
        "np.multiply(A,B,out=A)\n",
        "print(A)"
      ]
    },
    {
      "cell_type": "markdown",
      "id": "8a98c2a8",
      "metadata": {
        "id": "8a98c2a8"
      },
      "source": [
        ",#### 36. Extract the integer part of a random array of positive numbers using 4 different methods (★★☆)"
      ]
    },
    {
      "cell_type": "code",
      "execution_count": null,
      "id": "368130b3",
      "metadata": {
        "id": "368130b3",
        "colab": {
          "base_uri": "https://localhost:8080/"
        },
        "outputId": "5a95beae-89e3-4a6c-97fe-8f45f50d6ca6"
      },
      "outputs": [
        {
          "output_type": "stream",
          "name": "stdout",
          "text": [
            "Original array: [5.7927106  3.63900278 2.64508201 3.66169916 6.83938389]\n",
            "Integer part using np.floor: [5. 3. 2. 3. 6.]\n",
            "Integer part using np.trunc: [5. 3. 2. 3. 6.]\n",
            "Integer part using np.astype(int): [5 3 2 3 6]\n",
            "Integer part using np.fix: [5. 3. 2. 3. 6.]\n"
          ]
        }
      ],
      "source": [
        "\n",
        "\n",
        "# Create a random array of positive numbers\n",
        "random_array = np.random.rand(5) * 10  # Example array with values between 0 and 10\n",
        "\n",
        "# Method 1: Using np.floor\n",
        "integer_part_floor = np.floor(random_array)\n",
        "\n",
        "# Method 2: Using np.trunc\n",
        "integer_part_trunc = np.trunc(random_array)\n",
        "\n",
        "# Method 3: Using np.astype(int)\n",
        "integer_part_astype = random_array.astype(int)\n",
        "\n",
        "# Method 4: Using np.fix\n",
        "integer_part_fix = np.fix(random_array)\n",
        "\n",
        "# Print the results2q\n",
        "print(\"Original array:\", random_array)\n",
        "print(\"Integer part using np.floor:\", integer_part_floor)\n",
        "print(\"Integer part using np.trunc:\", integer_part_trunc)\n",
        "print(\"Integer part using np.astype(int):\", integer_part_astype)\n",
        "print(\"Integer part using np.fix:\", integer_part_fix)\n"
      ]
    },
    {
      "cell_type": "markdown",
      "id": "5a2e3d85",
      "metadata": {
        "id": "5a2e3d85"
      },
      "source": [
        "#### 37. Create a 5x5 matrix with row values ranging from 0 to 4 (★★☆)"
      ]
    },
    {
      "cell_type": "code",
      "execution_count": null,
      "id": "1d974e8f",
      "metadata": {
        "id": "1d974e8f",
        "colab": {
          "base_uri": "https://localhost:8080/"
        },
        "outputId": "3080f857-3c99-43c8-8c83-32e8dd9c6402"
      },
      "outputs": [
        {
          "output_type": "stream",
          "name": "stdout",
          "text": [
            "[[0. 1. 2. 3. 4.]\n",
            " [0. 1. 2. 3. 4.]\n",
            " [0. 1. 2. 3. 4.]\n",
            " [0. 1. 2. 3. 4.]\n",
            " [0. 1. 2. 3. 4.]]\n"
          ]
        }
      ],
      "source": [
        "arr=np.zeros((5,5))\n",
        "arr+=np.arange(5)\n",
        "print(arr)"
      ]
    },
    {
      "cell_type": "markdown",
      "id": "9720e2d5",
      "metadata": {
        "id": "9720e2d5"
      },
      "source": [
        "#### 38. Consider a generator function that generates 10 integers and use it to build an array (★☆☆)"
      ]
    },
    {
      "cell_type": "code",
      "execution_count": 4,
      "id": "e5dd8fc9",
      "metadata": {
        "id": "e5dd8fc9",
        "colab": {
          "base_uri": "https://localhost:8080/"
        },
        "outputId": "da80a723-7a4c-4257-848a-1ec73da076b8"
      },
      "outputs": [
        {
          "output_type": "stream",
          "name": "stdout",
          "text": [
            "[0.45356982 0.0835222  0.17291784 0.1425604  0.2727999  0.83541129\n",
            " 0.92683192 0.2152172  0.42187948 0.14791761]\n"
          ]
        }
      ],
      "source": [
        "array=np.random.rand(10)\n",
        "print(array)"
      ]
    },
    {
      "cell_type": "markdown",
      "id": "c6f2c912",
      "metadata": {
        "id": "c6f2c912"
      },
      "source": [
        "#### 39. Create a vector of size 10 with values ranging from 0 to 1, both excluded (★★☆)"
      ]
    },
    {
      "cell_type": "code",
      "execution_count": 3,
      "id": "6aaa27d3",
      "metadata": {
        "id": "6aaa27d3",
        "colab": {
          "base_uri": "https://localhost:8080/"
        },
        "outputId": "6307576e-194f-4926-88d4-5a9b1b2c9751"
      },
      "outputs": [
        {
          "output_type": "stream",
          "name": "stdout",
          "text": [
            "[0.09090909 0.18181818 0.27272727 0.36363636 0.45454545 0.54545455\n",
            " 0.63636364 0.72727273 0.81818182 0.90909091]\n"
          ]
        }
      ],
      "source": [
        "vector = np.linspace(0, 1, 12)[1:-1]\n",
        "print(vector)"
      ]
    },
    {
      "cell_type": "markdown",
      "id": "a36d6ee4",
      "metadata": {
        "id": "a36d6ee4"
      },
      "source": [
        "#### 40. Create a random vector of size 10 and sort it (★★☆)"
      ]
    },
    {
      "cell_type": "code",
      "execution_count": null,
      "id": "e589d216",
      "metadata": {
        "id": "e589d216",
        "colab": {
          "base_uri": "https://localhost:8080/"
        },
        "outputId": "911e9b18-4e89-4033-f428-a6e4ad7ef206"
      },
      "outputs": [
        {
          "output_type": "stream",
          "name": "stdout",
          "text": [
            "[0.02177049 0.14357306 0.17273156 0.20718169 0.3275182  0.33986667\n",
            " 0.36834237 0.88622056 0.90923159 0.96268716]\n"
          ]
        }
      ],
      "source": [
        "arr=np.random.rand(10)\n",
        "sorted_arr=np.sort(arr)\n",
        "print(sorted_arr)"
      ]
    },
    {
      "cell_type": "markdown",
      "id": "0fb4ad68",
      "metadata": {
        "id": "0fb4ad68"
      },
      "source": [
        "#### 41. How to sum a small array faster than np.sum? (★★☆)"
      ]
    },
    {
      "cell_type": "code",
      "execution_count": 5,
      "id": "a1ba05a0",
      "metadata": {
        "id": "a1ba05a0",
        "colab": {
          "base_uri": "https://localhost:8080/"
        },
        "outputId": "ca0b9623-8d12-4222-f317-3f43e9680ab3"
      },
      "outputs": [
        {
          "output_type": "stream",
          "name": "stdout",
          "text": [
            "15\n"
          ]
        }
      ],
      "source": [
        "array=np.array([1,2,3,4,5])\n",
        "sum=sum(array)\n",
        "print(sum)"
      ]
    },
    {
      "cell_type": "markdown",
      "id": "024ac365",
      "metadata": {
        "id": "024ac365"
      },
      "source": [
        "#### 42. Consider two random array A and B, check if they are equal (★★☆)"
      ]
    },
    {
      "cell_type": "code",
      "execution_count": 6,
      "id": "7db3846d",
      "metadata": {
        "id": "7db3846d",
        "colab": {
          "base_uri": "https://localhost:8080/"
        },
        "outputId": "6f0d2432-45a3-4752-eb10-9bad1153215b"
      },
      "outputs": [
        {
          "output_type": "stream",
          "name": "stdout",
          "text": [
            "False\n"
          ]
        }
      ],
      "source": [
        "A=np.random.rand(5)\n",
        "B=np.random.rand(5)\n",
        "equal=np.array_equal(A,B)\n",
        "print(equal)"
      ]
    },
    {
      "cell_type": "markdown",
      "id": "c68d2401",
      "metadata": {
        "id": "c68d2401"
      },
      "source": [
        "#### 43. Make an array immutable (read-only) (★★☆)"
      ]
    },
    {
      "cell_type": "code",
      "execution_count": 8,
      "id": "7828539d",
      "metadata": {
        "id": "7828539d",
        "colab": {
          "base_uri": "https://localhost:8080/"
        },
        "outputId": "a8de0925-20e8-4e20-8816-b2f0681e2ac3"
      },
      "outputs": [
        {
          "output_type": "stream",
          "name": "stdout",
          "text": [
            "Error: assignment destination is read-only\n"
          ]
        }
      ],
      "source": [
        "array = np.array([1, 2, 3, 4, 5])\n",
        "array.flags.writeable = False\n",
        "try:\n",
        "    array[0] = 10\n",
        "except ValueError as e:\n",
        "    print(\"Error:\", e)"
      ]
    },
    {
      "cell_type": "markdown",
      "id": "55df6280",
      "metadata": {
        "id": "55df6280"
      },
      "source": [
        "#### 44. Consider a random 10x2 matrix representing cartesian coordinates, convert them to polar coordinates (★★☆)"
      ]
    },
    {
      "cell_type": "code",
      "execution_count": 9,
      "id": "f1c86ea0",
      "metadata": {
        "id": "f1c86ea0",
        "colab": {
          "base_uri": "https://localhost:8080/"
        },
        "outputId": "78394cb5-de61-47a6-ccf6-470ffb5cb01d"
      },
      "outputs": [
        {
          "output_type": "stream",
          "name": "stdout",
          "text": [
            "Cartesian coordinates:\n",
            " [[0.30166204 0.76627077]\n",
            " [0.06431893 0.78901775]\n",
            " [0.15043542 0.05168778]\n",
            " [0.32394169 0.30513792]\n",
            " [0.63197113 0.24985609]\n",
            " [0.59590501 0.01279347]\n",
            " [0.79525855 0.29937088]\n",
            " [0.92981377 0.61503924]\n",
            " [0.95303299 0.91161315]\n",
            " [0.79302467 0.7986674 ]]\n",
            "\n",
            "Polar coordinates (r, theta):\n",
            " [[0.82351131 1.19575396]\n",
            " [0.79163497 1.48945845]\n",
            " [0.15906742 0.33095103]\n",
            " [0.44502513 0.75551614]\n",
            " [0.67957014 0.37649997]\n",
            " [0.59604233 0.02146568]\n",
            " [0.8497406  0.36003667]\n",
            " [1.11482147 0.58439278]\n",
            " [1.31882919 0.76318857]\n",
            " [1.12550333 0.78894326]]\n"
          ]
        }
      ],
      "source": [
        "cartesian_coords = np.random.rand(10, 2)\n",
        "\n",
        "x = cartesian_coords[:, 0]\n",
        "y = cartesian_coords[:, 1]\n",
        "\n",
        "r = np.sqrt(x**2 + y**2)\n",
        "theta = np.arctan2(y, x)\n",
        "polar_coords = np.column_stack((r, theta))\n",
        "\n",
        "print(\"Cartesian coordinates:\\n\", cartesian_coords)\n",
        "print(\"\\nPolar coordinates (r, theta):\\n\", polar_coords)"
      ]
    },
    {
      "cell_type": "markdown",
      "id": "2f60f1ec",
      "metadata": {
        "id": "2f60f1ec"
      },
      "source": [
        "#### 45. Create random vector of size 10 and replace the maximum value by 0 (★★☆)"
      ]
    },
    {
      "cell_type": "code",
      "execution_count": 10,
      "id": "d9f48f1c",
      "metadata": {
        "id": "d9f48f1c",
        "colab": {
          "base_uri": "https://localhost:8080/"
        },
        "outputId": "8b6e4a19-1411-4f3a-c280-b2218e5d3adc"
      },
      "outputs": [
        {
          "output_type": "stream",
          "name": "stdout",
          "text": [
            "[0.32335317 0.61250249 0.49878731 0.77670099 0.52214213 0.16125375\n",
            " 0.93700988 0.         0.33861177 0.73816444]\n"
          ]
        }
      ],
      "source": [
        "vector=np.random.rand(10)\n",
        "max_value=np.max(vector)\n",
        "vector[vector==max_value]=0\n",
        "print(vector)"
      ]
    },
    {
      "cell_type": "markdown",
      "id": "084e8ad4",
      "metadata": {
        "id": "084e8ad4"
      },
      "source": [
        "#### 46. Create a structured array with `x` and `y` coordinates covering the [0,1]x[0,1] area (★★☆)"
      ]
    },
    {
      "cell_type": "code",
      "execution_count": 12,
      "id": "58b47c13",
      "metadata": {
        "id": "58b47c13"
      },
      "outputs": [],
      "source": [
        "x = np.linspace(0, 1, 5)\n",
        "y = np.linspace(0, 1, 5)\n",
        "xx, yy = np.meshgrid(x, y)"
      ]
    },
    {
      "cell_type": "markdown",
      "id": "d7b9bc42",
      "metadata": {
        "id": "d7b9bc42"
      },
      "source": [
        "#### 47. Given two arrays, X and Y, construct the Cauchy matrix C (Cij =1/(xi - yj)) (★★☆)"
      ]
    },
    {
      "cell_type": "code",
      "execution_count": 13,
      "id": "a24824fb",
      "metadata": {
        "id": "a24824fb",
        "colab": {
          "base_uri": "https://localhost:8080/"
        },
        "outputId": "7fc365e0-a464-4d55-82aa-f03e156cc0c9"
      },
      "outputs": [
        {
          "output_type": "stream",
          "name": "stdout",
          "text": [
            "[[-0.33333333 -0.25       -0.2       ]\n",
            " [-0.5        -0.33333333 -0.25      ]\n",
            " [-1.         -0.5        -0.33333333]]\n"
          ]
        }
      ],
      "source": [
        "X = np.array([1, 2, 3])\n",
        "Y = np.array([4, 5, 6])\n",
        "C = 1.0 / (X[:, np.newaxis] - Y)\n",
        "print(C)\n"
      ]
    },
    {
      "cell_type": "markdown",
      "id": "65ebc11b",
      "metadata": {
        "id": "65ebc11b"
      },
      "source": [
        "#### 48. Print the minimum and maximum representable value for each numpy scalar type (★★☆)"
      ]
    },
    {
      "cell_type": "code",
      "execution_count": 11,
      "id": "e45d38fb",
      "metadata": {
        "id": "e45d38fb",
        "colab": {
          "base_uri": "https://localhost:8080/"
        },
        "outputId": "9d407088-5b15-410c-e7e9-5fb4985bab3a"
      },
      "outputs": [
        {
          "output_type": "stream",
          "name": "stdout",
          "text": [
            "int8: Min=-128, Max=127\n",
            "int16: Min=-32768, Max=32767\n",
            "int32: Min=-2147483648, Max=2147483647\n",
            "int64: Min=-9223372036854775808, Max=9223372036854775807\n"
          ]
        }
      ],
      "source": [
        "\n",
        "for dtype in [np.int8, np.int16, np.int32, np.int64]:\n",
        "    info = np.iinfo(dtype)\n",
        "    print(f\"{dtype.__name__}: Min={info.min}, Max={info.max}\")"
      ]
    },
    {
      "cell_type": "markdown",
      "id": "9b317a98",
      "metadata": {
        "id": "9b317a98"
      },
      "source": [
        "#### 49. How to print all the values of an array? (★★☆)"
      ]
    },
    {
      "cell_type": "code",
      "execution_count": 15,
      "id": "309cdeb9",
      "metadata": {
        "id": "309cdeb9",
        "colab": {
          "base_uri": "https://localhost:8080/"
        },
        "outputId": "e120a9a3-2f88-4d6a-ffee-69241433b1ae"
      },
      "outputs": [
        {
          "output_type": "stream",
          "name": "stdout",
          "text": [
            "[  0   1   2   3   4   5   6   7   8   9  10  11  12  13  14  15  16  17\n",
            "  18  19  20  21  22  23  24  25  26  27  28  29  30  31  32  33  34  35\n",
            "  36  37  38  39  40  41  42  43  44  45  46  47  48  49  50  51  52  53\n",
            "  54  55  56  57  58  59  60  61  62  63  64  65  66  67  68  69  70  71\n",
            "  72  73  74  75  76  77  78  79  80  81  82  83  84  85  86  87  88  89\n",
            "  90  91  92  93  94  95  96  97  98  99 100 101 102 103 104 105 106 107\n",
            " 108 109 110 111 112 113 114 115 116 117 118 119 120 121 122 123 124 125\n",
            " 126 127 128 129 130 131 132 133 134 135 136 137 138 139 140 141 142 143\n",
            " 144 145 146 147 148 149 150 151 152 153 154 155 156 157 158 159 160 161\n",
            " 162 163 164 165 166 167 168 169 170 171 172 173 174 175 176 177 178 179\n",
            " 180 181 182 183 184 185 186 187 188 189 190 191 192 193 194 195 196 197\n",
            " 198 199 200 201 202 203 204 205 206 207 208 209 210 211 212 213 214 215\n",
            " 216 217 218 219 220 221 222 223 224 225 226 227 228 229 230 231 232 233\n",
            " 234 235 236 237 238 239 240 241 242 243 244 245 246 247 248 249 250 251\n",
            " 252 253 254 255 256 257 258 259 260 261 262 263 264 265 266 267 268 269\n",
            " 270 271 272 273 274 275 276 277 278 279 280 281 282 283 284 285 286 287\n",
            " 288 289 290 291 292 293 294 295 296 297 298 299 300 301 302 303 304 305\n",
            " 306 307 308 309 310 311 312 313 314 315 316 317 318 319 320 321 322 323\n",
            " 324 325 326 327 328 329 330 331 332 333 334 335 336 337 338 339 340 341\n",
            " 342 343 344 345 346 347 348 349 350 351 352 353 354 355 356 357 358 359\n",
            " 360 361 362 363 364 365 366 367 368 369 370 371 372 373 374 375 376 377\n",
            " 378 379 380 381 382 383 384 385 386 387 388 389 390 391 392 393 394 395\n",
            " 396 397 398 399 400 401 402 403 404 405 406 407 408 409 410 411 412 413\n",
            " 414 415 416 417 418 419 420 421 422 423 424 425 426 427 428 429 430 431\n",
            " 432 433 434 435 436 437 438 439 440 441 442 443 444 445 446 447 448 449\n",
            " 450 451 452 453 454 455 456 457 458 459 460 461 462 463 464 465 466 467\n",
            " 468 469 470 471 472 473 474 475 476 477 478 479 480 481 482 483 484 485\n",
            " 486 487 488 489 490 491 492 493 494 495 496 497 498 499 500 501 502 503\n",
            " 504 505 506 507 508 509 510 511 512 513 514 515 516 517 518 519 520 521\n",
            " 522 523 524 525 526 527 528 529 530 531 532 533 534 535 536 537 538 539\n",
            " 540 541 542 543 544 545 546 547 548 549 550 551 552 553 554 555 556 557\n",
            " 558 559 560 561 562 563 564 565 566 567 568 569 570 571 572 573 574 575\n",
            " 576 577 578 579 580 581 582 583 584 585 586 587 588 589 590 591 592 593\n",
            " 594 595 596 597 598 599 600 601 602 603 604 605 606 607 608 609 610 611\n",
            " 612 613 614 615 616 617 618 619 620 621 622 623 624 625 626 627 628 629\n",
            " 630 631 632 633 634 635 636 637 638 639 640 641 642 643 644 645 646 647\n",
            " 648 649 650 651 652 653 654 655 656 657 658 659 660 661 662 663 664 665\n",
            " 666 667 668 669 670 671 672 673 674 675 676 677 678 679 680 681 682 683\n",
            " 684 685 686 687 688 689 690 691 692 693 694 695 696 697 698 699 700 701\n",
            " 702 703 704 705 706 707 708 709 710 711 712 713 714 715 716 717 718 719\n",
            " 720 721 722 723 724 725 726 727 728 729 730 731 732 733 734 735 736 737\n",
            " 738 739 740 741 742 743 744 745 746 747 748 749 750 751 752 753 754 755\n",
            " 756 757 758 759 760 761 762 763 764 765 766 767 768 769 770 771 772 773\n",
            " 774 775 776 777 778 779 780 781 782 783 784 785 786 787 788 789 790 791\n",
            " 792 793 794 795 796 797 798 799 800 801 802 803 804 805 806 807 808 809\n",
            " 810 811 812 813 814 815 816 817 818 819 820 821 822 823 824 825 826 827\n",
            " 828 829 830 831 832 833 834 835 836 837 838 839 840 841 842 843 844 845\n",
            " 846 847 848 849 850 851 852 853 854 855 856 857 858 859 860 861 862 863\n",
            " 864 865 866 867 868 869 870 871 872 873 874 875 876 877 878 879 880 881\n",
            " 882 883 884 885 886 887 888 889 890 891 892 893 894 895 896 897 898 899\n",
            " 900 901 902 903 904 905 906 907 908 909 910 911 912 913 914 915 916 917\n",
            " 918 919 920 921 922 923 924 925 926 927 928 929 930 931 932 933 934 935\n",
            " 936 937 938 939 940 941 942 943 944 945 946 947 948 949 950 951 952 953\n",
            " 954 955 956 957 958 959 960 961 962 963 964 965 966 967 968 969 970 971\n",
            " 972 973 974 975 976 977 978 979 980 981 982 983 984 985 986 987 988 989\n",
            " 990 991 992 993 994 995 996 997 998 999]\n"
          ]
        }
      ],
      "source": [
        "array = np.arange(1000)\n",
        "\n",
        "print(np.array2string(array, threshold=np.inf))"
      ]
    },
    {
      "cell_type": "markdown",
      "id": "b580f9d0",
      "metadata": {
        "id": "b580f9d0"
      },
      "source": [
        "#### 50. How to find the closest value (to a given scalar) in a vector? (★★☆)"
      ]
    },
    {
      "cell_type": "code",
      "execution_count": 16,
      "id": "ebfb6714",
      "metadata": {
        "id": "ebfb6714",
        "colab": {
          "base_uri": "https://localhost:8080/"
        },
        "outputId": "40dd2a0e-c1c1-4a71-d227-51cd616f34ac"
      },
      "outputs": [
        {
          "output_type": "stream",
          "name": "stdout",
          "text": [
            "Vector: [ 1  3  7 10 15]\n",
            "Scalar: 8\n",
            "Closest value: 7\n"
          ]
        }
      ],
      "source": [
        "vector = np.array([1, 3, 7, 10, 15])\n",
        "scalar = 8\n",
        "index = np.abs(vector - scalar).argmin()\n",
        "closest_value = vector[index]\n",
        "\n",
        "print(\"Vector:\", vector)\n",
        "print(\"Scalar:\", scalar)\n",
        "print(\"Closest value:\", closest_value)"
      ]
    },
    {
      "cell_type": "markdown",
      "id": "602e6252",
      "metadata": {
        "id": "602e6252"
      },
      "source": [
        "#### 51. Create a structured array representing a position (x,y) and a color (r,g,b) (★★☆)"
      ]
    },
    {
      "cell_type": "code",
      "execution_count": 17,
      "id": "cf002b3a",
      "metadata": {
        "id": "cf002b3a",
        "colab": {
          "base_uri": "https://localhost:8080/"
        },
        "outputId": "650d0d54-f7a9-4806-ce7c-45a440da90da"
      },
      "outputs": [
        {
          "output_type": "stream",
          "name": "stdout",
          "text": [
            "[((1. , 2. ), (255.,   0.,   0.)) ((4.5, 5.5), (  0., 255.,   0.))\n",
            " ((7. , 8. ), (  0.,   0., 255.))]\n"
          ]
        }
      ],
      "source": [
        "dtype = np.dtype([('position', [('x', float), ('y', float)]),\n",
        "                  ('color', [('r', float), ('g', float), ('b', float)])])\n",
        "\n",
        "structured_array = np.array([((1.0, 2.0), (255, 0, 0)),\n",
        "                             ((4.5, 5.5), (0, 255, 0)),\n",
        "                             ((7.0, 8.0), (0, 0, 255))],\n",
        "                            dtype=dtype)\n",
        "\n",
        "print(structured_array)"
      ]
    },
    {
      "cell_type": "markdown",
      "id": "78bcd92f",
      "metadata": {
        "id": "78bcd92f"
      },
      "source": [
        "#### 52. Consider a random vector with shape (100,2) representing coordinates, find point by point distances (★★☆)"
      ]
    },
    {
      "cell_type": "code",
      "execution_count": 18,
      "id": "fea7f9a6",
      "metadata": {
        "id": "fea7f9a6",
        "colab": {
          "base_uri": "https://localhost:8080/"
        },
        "outputId": "72604f18-3b95-44f6-98f7-18ed36ab9735"
      },
      "outputs": [
        {
          "output_type": "stream",
          "name": "stdout",
          "text": [
            "Distances between points:\n",
            " [[0.         0.39782717 0.81950889 ... 0.67479688 0.4560322  0.70568916]\n",
            " [0.39782717 0.         0.59669575 ... 0.85607931 0.09624087 0.64850724]\n",
            " [0.81950889 0.59669575 0.         ... 0.7514084  0.50317971 0.30913955]\n",
            " ...\n",
            " [0.67479688 0.85607931 0.7514084  ... 0.         0.83081951 0.44645976]\n",
            " [0.4560322  0.09624087 0.50317971 ... 0.83081951 0.         0.57918603]\n",
            " [0.70568916 0.64850724 0.30913955 ... 0.44645976 0.57918603 0.        ]]\n"
          ]
        }
      ],
      "source": [
        "from scipy.spatial.distance import cdist\n",
        "\n",
        "points = np.random.rand(100, 2)\n",
        "\n",
        "distances = cdist(points, points)\n",
        "\n",
        "print(\"Distances between points:\\n\", distances)"
      ]
    },
    {
      "cell_type": "markdown",
      "id": "343c5a85",
      "metadata": {
        "id": "343c5a85"
      },
      "source": [
        "#### 53. How to convert a float (32 bits) array into an integer (32 bits) in place?"
      ]
    },
    {
      "cell_type": "code",
      "execution_count": 20,
      "id": "fc1b687b",
      "metadata": {
        "id": "fc1b687b"
      },
      "outputs": [],
      "source": [
        "\n",
        "float_array = np.array([1.5, 2.7, 3.9], dtype=np.float32)\n",
        "int_array = float_array.astype(np.int32, copy=False)"
      ]
    },
    {
      "cell_type": "markdown",
      "id": "a69e1ace",
      "metadata": {
        "id": "a69e1ace"
      },
      "source": [
        "#### 54. How to read the following file? (★★☆)\n",
        "```\n",
        "1, 2, 3, 4, 5\n",
        "6,  ,  , 7, 8\n",
        " ,  , 9,10,11\n",
        "```"
      ]
    },
    {
      "cell_type": "code",
      "execution_count": 21,
      "id": "1c7957d4",
      "metadata": {
        "id": "1c7957d4"
      },
      "outputs": [],
      "source": []
    },
    {
      "cell_type": "markdown",
      "id": "c23bd80d",
      "metadata": {
        "id": "c23bd80d"
      },
      "source": [
        "#### 55. What is the equivalent of enumerate for numpy arrays? (★★☆)"
      ]
    },
    {
      "cell_type": "code",
      "execution_count": 22,
      "id": "d95d9578",
      "metadata": {
        "id": "d95d9578",
        "colab": {
          "base_uri": "https://localhost:8080/"
        },
        "outputId": "572e8a05-d7ce-4a37-9efa-2caa165995a1"
      },
      "outputs": [
        {
          "output_type": "stream",
          "name": "stdout",
          "text": [
            "Index: (0, 0), Value: 10\n",
            "Index: (0, 1), Value: 20\n",
            "Index: (0, 2), Value: 30\n",
            "Index: (1, 0), Value: 40\n",
            "Index: (1, 1), Value: 50\n",
            "Index: (1, 2), Value: 60\n"
          ]
        }
      ],
      "source": [
        "array = np.array([[10, 20, 30],\n",
        "                  [40, 50, 60]])\n",
        "\n",
        "\n",
        "for index, value in np.ndenumerate(array):\n",
        "    print(f\"Index: {index}, Value: {value}\")"
      ]
    },
    {
      "cell_type": "markdown",
      "id": "2153a5ec",
      "metadata": {
        "id": "2153a5ec"
      },
      "source": [
        "#### 56. Generate a generic 2D Gaussian-like array (★★☆)"
      ]
    },
    {
      "cell_type": "code",
      "execution_count": null,
      "id": "61122d1e",
      "metadata": {
        "id": "61122d1e"
      },
      "outputs": [],
      "source": [
        "\n",
        "\n"
      ]
    },
    {
      "cell_type": "markdown",
      "id": "2e76d589",
      "metadata": {
        "id": "2e76d589"
      },
      "source": [
        "#### 57. How to randomly place p elements in a 2D array? (★★☆)"
      ]
    },
    {
      "cell_type": "code",
      "execution_count": 23,
      "id": "0c2e4fcc",
      "metadata": {
        "id": "0c2e4fcc",
        "colab": {
          "base_uri": "https://localhost:8080/"
        },
        "outputId": "d01a2dd7-595d-4736-ed35-d8740c957670"
      },
      "outputs": [
        {
          "output_type": "stream",
          "name": "stdout",
          "text": [
            "[[0. 0. 0. 0. 0. 0. 0. 0. 0. 0.]\n",
            " [0. 0. 0. 0. 0. 0. 0. 0. 0. 1.]\n",
            " [0. 0. 0. 0. 0. 0. 0. 0. 0. 0.]\n",
            " [0. 0. 0. 0. 0. 0. 0. 0. 0. 0.]\n",
            " [0. 0. 0. 0. 0. 0. 0. 0. 0. 0.]\n",
            " [0. 0. 0. 0. 0. 0. 0. 0. 0. 0.]\n",
            " [0. 0. 0. 0. 0. 0. 0. 0. 0. 0.]\n",
            " [0. 0. 0. 0. 0. 0. 0. 0. 0. 0.]\n",
            " [0. 0. 0. 0. 1. 0. 0. 0. 0. 0.]\n",
            " [0. 0. 1. 0. 0. 0. 0. 0. 0. 0.]]\n"
          ]
        }
      ],
      "source": [
        "n = 10\n",
        "p = 3\n",
        "Z = np.zeros((n,n))\n",
        "np.put(Z, np.random.choice(range(n*n), p, replace=False),1)\n",
        "print(Z)"
      ]
    },
    {
      "cell_type": "markdown",
      "id": "8b3933eb",
      "metadata": {
        "id": "8b3933eb"
      },
      "source": [
        "#### 58. Subtract the mean of each row of a matrix (★★☆)"
      ]
    },
    {
      "cell_type": "code",
      "execution_count": 25,
      "id": "a306c9ef",
      "metadata": {
        "id": "a306c9ef",
        "colab": {
          "base_uri": "https://localhost:8080/"
        },
        "outputId": "03d9c15c-799b-43b6-ca42-f8975797e8f5"
      },
      "outputs": [
        {
          "output_type": "stream",
          "name": "stdout",
          "text": [
            "[[ 0.03072534  0.26726729  0.04420952  0.33432832 -0.12440547 -0.14177743\n",
            "   0.02828844  0.14345502 -0.22189496 -0.36019605]\n",
            " [-0.41883734  0.49046558 -0.17248604 -0.13226652 -0.09790966  0.12972097\n",
            "   0.15207316  0.03102863  0.3879394  -0.36972819]\n",
            " [-0.13053601  0.00333141 -0.51162685  0.20783963 -0.05290802 -0.4040305\n",
            "   0.2781753   0.27699242  0.0493952   0.28336742]\n",
            " [ 0.18558558 -0.27261848 -0.29535812  0.12844393 -0.05937421 -0.34080685\n",
            "   0.06951936 -0.23582334  0.50842189  0.31201024]\n",
            " [-0.04359475 -0.13843456 -0.26446711  0.55778279 -0.13076202 -0.05836131\n",
            "  -0.37182477 -0.04588848  0.17366804  0.32188216]]\n"
          ]
        }
      ],
      "source": [
        "X = np.random.rand(5, 10)\n",
        "Y = X - X.mean(axis=1, keepdims=True)\n",
        "Y = X - X.mean(axis=1).reshape(-1, 1)\n",
        "print(Y)"
      ]
    },
    {
      "cell_type": "markdown",
      "id": "ea8807c0",
      "metadata": {
        "id": "ea8807c0"
      },
      "source": [
        "#### 59. How to sort an array by the nth column? (★★☆)"
      ]
    },
    {
      "cell_type": "code",
      "execution_count": 26,
      "id": "cc89a699",
      "metadata": {
        "id": "cc89a699",
        "colab": {
          "base_uri": "https://localhost:8080/"
        },
        "outputId": "f7911c18-9940-4fc0-ee58-078bc6161907"
      },
      "outputs": [
        {
          "output_type": "stream",
          "name": "stdout",
          "text": [
            "[[2 5 6]\n",
            " [7 0 1]\n",
            " [2 3 2]]\n",
            "[[7 0 1]\n",
            " [2 3 2]\n",
            " [2 5 6]]\n"
          ]
        }
      ],
      "source": [
        "Z = np.random.randint(0,10,(3,3))\n",
        "print(Z)\n",
        "print(Z[Z[:,1].argsort()])"
      ]
    },
    {
      "cell_type": "markdown",
      "id": "00fa00a1",
      "metadata": {
        "id": "00fa00a1"
      },
      "source": [
        "#### 60. How to tell if a given 2D array has null columns? (★★☆)"
      ]
    },
    {
      "cell_type": "code",
      "execution_count": 27,
      "id": "3436e165",
      "metadata": {
        "id": "3436e165",
        "colab": {
          "base_uri": "https://localhost:8080/"
        },
        "outputId": "e9b0cfa6-4bb5-440c-e2cd-3afc1abaee34"
      },
      "outputs": [
        {
          "output_type": "stream",
          "name": "stdout",
          "text": [
            "True\n",
            "[False False  True]\n"
          ]
        }
      ],
      "source": [
        "Z = np.random.randint(0,3,(3,10))\n",
        "print((~Z.any(axis=0)).any())\n",
        "\n",
        "Z=np.array([\n",
        "    [0,1,np.nan],\n",
        "    [1,2,np.nan],\n",
        "    [4,5,np.nan]\n",
        "])\n",
        "print(np.isnan(Z).all(axis=0))"
      ]
    },
    {
      "cell_type": "markdown",
      "id": "5a65c7a2",
      "metadata": {
        "id": "5a65c7a2"
      },
      "source": [
        "#### 61. Find the nearest value from a given value in an array (★★☆)"
      ]
    },
    {
      "cell_type": "code",
      "execution_count": 28,
      "id": "73f149d6",
      "metadata": {
        "id": "73f149d6",
        "colab": {
          "base_uri": "https://localhost:8080/"
        },
        "outputId": "ea193e64-fb23-43e7-a284-4313d66e92cc"
      },
      "outputs": [
        {
          "output_type": "stream",
          "name": "stdout",
          "text": [
            "0.4762402762081971\n"
          ]
        }
      ],
      "source": [
        "Z = np.random.uniform(0,1,10)\n",
        "z = 0.5\n",
        "m = Z.flat[np.abs(Z - z).argmin()]\n",
        "print(m)"
      ]
    },
    {
      "cell_type": "markdown",
      "id": "dd83e8af",
      "metadata": {
        "id": "dd83e8af"
      },
      "source": [
        "#### 62. Considering two arrays with shape (1,3) and (3,1), how to compute their sum using an iterator? (★★☆)"
      ]
    },
    {
      "cell_type": "code",
      "execution_count": 30,
      "id": "29a709a1",
      "metadata": {
        "id": "29a709a1",
        "colab": {
          "base_uri": "https://localhost:8080/"
        },
        "outputId": "06dde7ef-7f15-4233-d3ad-d0dfa4215eb5"
      },
      "outputs": [
        {
          "output_type": "stream",
          "name": "stdout",
          "text": [
            "63\n"
          ]
        }
      ],
      "source": [
        "array1 = np.array([[1, 2, 3]])\n",
        "array2 = np.array([[4],\n",
        "                   [5],\n",
        "                   [6]])\n",
        "sum=0\n",
        "for x, y in np.nditer([array1, array2]):\n",
        "    sum+=x+y\n",
        "print(sum)"
      ]
    },
    {
      "cell_type": "markdown",
      "id": "6c042efa",
      "metadata": {
        "id": "6c042efa"
      },
      "source": [
        "#### 63. Create an array class that has a name attribute (★★☆)"
      ]
    },
    {
      "cell_type": "code",
      "execution_count": 42,
      "id": "45b3d2e0",
      "metadata": {
        "id": "45b3d2e0",
        "colab": {
          "base_uri": "https://localhost:8080/"
        },
        "outputId": "fb8cfc55-3b16-43c8-8b6a-37362676c7e4"
      },
      "outputs": [
        {
          "output_type": "stream",
          "name": "stdout",
          "text": [
            "[[1 2 3]\n",
            " [4 5 6]]\n",
            "Name: MyArray\n"
          ]
        }
      ],
      "source": [
        "class NamedArray(np.ndarray):\n",
        "    def __new__(cls, input_array, name=\"Unnamed\"):\n",
        "\n",
        "        obj = np.asarray(input_array).view(cls)\n",
        "\n",
        "        obj.name = name\n",
        "        return obj\n",
        "\n",
        "    def __init__(self, input_array, name=\"Unnamed\"):\n",
        "\n",
        "        pass\n",
        "\n",
        "    def __repr__(self):\n",
        "        return f\"NamedArray(name={self.name}, shape={self.shape}, dtype={self.dtype})\\n{super().__repr__()}\"\n",
        "\n",
        "data = np.array([[1, 2, 3], [4, 5, 6]])\n",
        "named_array = NamedArray(data, name=\"MyArray\")\n",
        "\n",
        "print(named_array)\n",
        "print(\"Name:\", named_array.name)"
      ]
    },
    {
      "cell_type": "markdown",
      "id": "0a075c3d",
      "metadata": {
        "id": "0a075c3d"
      },
      "source": [
        "#### 64. Consider a given vector, how to add 1 to each element indexed by a second vector (be careful with repeated indices)? (★★★)"
      ]
    },
    {
      "cell_type": "code",
      "execution_count": 44,
      "id": "36c50470",
      "metadata": {
        "id": "36c50470",
        "colab": {
          "base_uri": "https://localhost:8080/"
        },
        "outputId": "24296a42-9f69-4c64-80ff-e8ca2450c6df"
      },
      "outputs": [
        {
          "output_type": "stream",
          "name": "stdout",
          "text": [
            "[0 1 2 3 4 5 6 7 8 9]\n",
            "[3. 3. 9. 5. 7. 3. 3. 9. 7. 1.]\n"
          ]
        }
      ],
      "source": [
        "A = np.ones(10)\n",
        "I = np.random.randint(0,len(A),20)\n",
        "A += np.bincount(I, minlength=len(Z))\n",
        "print(Z)\n",
        "\n",
        "np.add.at(A, I, 1)\n",
        "print(A)\n",
        ""
      ]
    },
    {
      "cell_type": "markdown",
      "id": "0fb2f0c5",
      "metadata": {
        "id": "0fb2f0c5"
      },
      "source": [
        "#### 65. How to accumulate elements of a vector (X) to an array (F) based on an index list (I)? (★★★)"
      ]
    },
    {
      "cell_type": "code",
      "execution_count": 45,
      "id": "58aa5f82",
      "metadata": {
        "id": "58aa5f82",
        "colab": {
          "base_uri": "https://localhost:8080/"
        },
        "outputId": "8e993c46-16af-4f40-f6a2-3a408ab2e3b8"
      },
      "outputs": [
        {
          "output_type": "stream",
          "name": "stdout",
          "text": [
            "[0. 7. 0. 6. 5. 0. 0. 0. 0. 3.]\n"
          ]
        }
      ],
      "source": [
        "X = [1,2,3,4,5,6]\n",
        "I = [1,3,9,3,4,1]\n",
        "F = np.bincount(I,X)\n",
        "print(F)"
      ]
    },
    {
      "cell_type": "markdown",
      "id": "d89dc506",
      "metadata": {
        "id": "d89dc506"
      },
      "source": [
        "#### 66. Considering a (w,h,3) image of (dtype=ubyte), compute the number of unique colors (★★☆)"
      ]
    },
    {
      "cell_type": "code",
      "execution_count": 46,
      "id": "8fb43a49",
      "metadata": {
        "id": "8fb43a49",
        "colab": {
          "base_uri": "https://localhost:8080/"
        },
        "outputId": "5961b673-b618-4caa-827a-d7bb84ca277c"
      },
      "outputs": [
        {
          "output_type": "stream",
          "name": "stdout",
          "text": [
            "64\n",
            "64\n"
          ]
        }
      ],
      "source": [
        "w, h = 256, 256\n",
        "I = np.random.randint(0, 4, (h, w, 3)).astype(np.ubyte)\n",
        "colors = np.unique(I.reshape(-1, 3), axis=0)\n",
        "n = len(colors)\n",
        "print(n)\n",
        "\n",
        "w, h = 256, 256\n",
        "I = np.random.randint(0,4,(h,w,3), dtype=np.uint8)\n",
        "\n",
        "I24 = np.dot(I.astype(np.uint32),[1,256,65536])\n",
        "\n",
        "# Count unique colours\n",
        "n = len(np.unique(I24))\n",
        "print(n)"
      ]
    },
    {
      "cell_type": "markdown",
      "id": "535a5d81",
      "metadata": {
        "id": "535a5d81"
      },
      "source": [
        "#### 67. Considering a four dimensions array, how to get sum over the last two axis at once? (★★★)"
      ]
    },
    {
      "cell_type": "code",
      "execution_count": 47,
      "id": "f954ab9d",
      "metadata": {
        "id": "f954ab9d",
        "colab": {
          "base_uri": "https://localhost:8080/"
        },
        "outputId": "ea8bbd9c-a211-47db-ec24-a7c6bcc1dbd6"
      },
      "outputs": [
        {
          "output_type": "stream",
          "name": "stdout",
          "text": [
            "[[47 46 40 48]\n",
            " [49 47 50 32]\n",
            " [39 63 54 44]]\n",
            "[[47 46 40 48]\n",
            " [49 47 50 32]\n",
            " [39 63 54 44]]\n"
          ]
        }
      ],
      "source": [
        "A = np.random.randint(0,10,(3,4,3,4))\n",
        "sum = A.sum(axis=(-2,-1))\n",
        "print(sum)\n",
        "sum = A.reshape(A.shape[:-2] + (-1,)).sum(axis=-1)\n",
        "print(sum)"
      ]
    },
    {
      "cell_type": "markdown",
      "id": "eee66d3c",
      "metadata": {
        "id": "eee66d3c"
      },
      "source": [
        "#### 68. Considering a one-dimensional vector D, how to compute means of subsets of D using a vector S of same size describing subset  indices? (★★★)"
      ]
    },
    {
      "cell_type": "code",
      "execution_count": 48,
      "id": "8929773a",
      "metadata": {
        "id": "8929773a",
        "colab": {
          "base_uri": "https://localhost:8080/"
        },
        "outputId": "a922012d-26ed-4125-a673-712bfb63f8c8"
      },
      "outputs": [
        {
          "output_type": "stream",
          "name": "stdout",
          "text": [
            "[0.43766914 0.543101   0.5755223  0.48559085 0.42387603 0.59021991\n",
            " 0.45679948 0.2579162  0.34884862 0.6620424 ]\n",
            "0    0.437669\n",
            "1    0.543101\n",
            "2    0.575522\n",
            "3    0.485591\n",
            "4    0.423876\n",
            "5    0.590220\n",
            "6    0.456799\n",
            "7    0.257916\n",
            "8    0.348849\n",
            "9    0.662042\n",
            "dtype: float64\n"
          ]
        }
      ],
      "source": [
        "D = np.random.uniform(0,1,100)\n",
        "S = np.random.randint(0,10,100)\n",
        "D_sums = np.bincount(S, weights=D)\n",
        "D_counts = np.bincount(S)\n",
        "D_means = D_sums / D_counts\n",
        "print(D_means)\n",
        "\n",
        "import pandas as pd\n",
        "print(pd.Series(D).groupby(S).mean())"
      ]
    },
    {
      "cell_type": "markdown",
      "id": "f90d4c40",
      "metadata": {
        "id": "f90d4c40"
      },
      "source": [
        "#### 69. How to get the diagonal of a dot product? (★★★)"
      ]
    },
    {
      "cell_type": "code",
      "execution_count": 49,
      "id": "b47d392d",
      "metadata": {
        "id": "b47d392d",
        "colab": {
          "base_uri": "https://localhost:8080/"
        },
        "outputId": "c3188d4a-9b50-4485-f9fb-5bc65f284cd7"
      },
      "outputs": [
        {
          "output_type": "execute_result",
          "data": {
            "text/plain": [
              "array([1.24676298, 2.21159242, 1.35233639, 2.60116893, 1.19640416])"
            ]
          },
          "metadata": {},
          "execution_count": 49
        }
      ],
      "source": [
        "A = np.random.uniform(0,1,(5,5))\n",
        "B = np.random.uniform(0,1,(5,5))\n",
        "np.diag(np.dot(A, B))\n",
        "np.sum(A * B.T, axis=1)\n",
        "\n",
        "np.einsum(\"ij,ji->i\", A, B)"
      ]
    },
    {
      "cell_type": "markdown",
      "id": "a8a97e7d",
      "metadata": {
        "id": "a8a97e7d"
      },
      "source": [
        "#### 70. Consider the vector [1, 2, 3, 4, 5], how to build a new vector with 3 consecutive zeros interleaved between each value? (★★★)"
      ]
    },
    {
      "cell_type": "code",
      "execution_count": 50,
      "id": "ee6c6c37",
      "metadata": {
        "id": "ee6c6c37",
        "colab": {
          "base_uri": "https://localhost:8080/"
        },
        "outputId": "82310da0-b0e5-499f-9391-77421d370c35"
      },
      "outputs": [
        {
          "output_type": "stream",
          "name": "stdout",
          "text": [
            "[1. 0. 0. 0. 2. 0. 0. 0. 3. 0. 0. 0. 4. 0. 0. 0. 5.]\n"
          ]
        }
      ],
      "source": [
        "Z = np.array([1,2,3,4,5])\n",
        "nz = 3\n",
        "Z0 = np.zeros(len(Z) + (len(Z)-1)*(nz))\n",
        "Z0[::nz+1] = Z\n",
        "print(Z0)"
      ]
    },
    {
      "cell_type": "markdown",
      "id": "d6a30d60",
      "metadata": {
        "id": "d6a30d60"
      },
      "source": [
        "#### 71. Consider an array of dimension (5,5,3), how to mulitply it by an array with dimensions (5,5)? (★★★)"
      ]
    },
    {
      "cell_type": "code",
      "execution_count": 51,
      "id": "e9703f2e",
      "metadata": {
        "id": "e9703f2e",
        "colab": {
          "base_uri": "https://localhost:8080/"
        },
        "outputId": "e3e0473b-a9ca-4056-d392-c75ad365147b"
      },
      "outputs": [
        {
          "output_type": "stream",
          "name": "stdout",
          "text": [
            "[[[2. 2. 2.]\n",
            "  [2. 2. 2.]\n",
            "  [2. 2. 2.]\n",
            "  [2. 2. 2.]\n",
            "  [2. 2. 2.]]\n",
            "\n",
            " [[2. 2. 2.]\n",
            "  [2. 2. 2.]\n",
            "  [2. 2. 2.]\n",
            "  [2. 2. 2.]\n",
            "  [2. 2. 2.]]\n",
            "\n",
            " [[2. 2. 2.]\n",
            "  [2. 2. 2.]\n",
            "  [2. 2. 2.]\n",
            "  [2. 2. 2.]\n",
            "  [2. 2. 2.]]\n",
            "\n",
            " [[2. 2. 2.]\n",
            "  [2. 2. 2.]\n",
            "  [2. 2. 2.]\n",
            "  [2. 2. 2.]\n",
            "  [2. 2. 2.]]\n",
            "\n",
            " [[2. 2. 2.]\n",
            "  [2. 2. 2.]\n",
            "  [2. 2. 2.]\n",
            "  [2. 2. 2.]\n",
            "  [2. 2. 2.]]]\n"
          ]
        }
      ],
      "source": [
        "A = np.ones((5,5,3))\n",
        "B = 2*np.ones((5,5))\n",
        "print(A * B[:,:,None])"
      ]
    },
    {
      "cell_type": "markdown",
      "id": "bac359a9",
      "metadata": {
        "id": "bac359a9"
      },
      "source": [
        "#### 72. How to swap two rows of an array? (★★★)"
      ]
    },
    {
      "cell_type": "code",
      "execution_count": 52,
      "id": "f1b432b1",
      "metadata": {
        "id": "f1b432b1",
        "colab": {
          "base_uri": "https://localhost:8080/"
        },
        "outputId": "f22d0627-3ca6-4bd8-8e60-73d0ce0a8c3c"
      },
      "outputs": [
        {
          "output_type": "stream",
          "name": "stdout",
          "text": [
            "[[ 5  6  7  8  9]\n",
            " [ 0  1  2  3  4]\n",
            " [10 11 12 13 14]\n",
            " [15 16 17 18 19]\n",
            " [20 21 22 23 24]]\n"
          ]
        }
      ],
      "source": [
        "A = np.arange(25).reshape(5,5)\n",
        "A[[0,1]] = A[[1,0]]\n",
        "print(A)"
      ]
    },
    {
      "cell_type": "markdown",
      "id": "620c9f83",
      "metadata": {
        "id": "620c9f83"
      },
      "source": [
        "#### 73. Consider a set of 10 triplets describing 10 triangles (with shared vertices), find the set of unique line segments composing all the  triangles (★★★)"
      ]
    },
    {
      "cell_type": "code",
      "execution_count": 53,
      "id": "4e595ffc",
      "metadata": {
        "id": "4e595ffc",
        "colab": {
          "base_uri": "https://localhost:8080/"
        },
        "outputId": "fb608ff4-7584-449d-fbc0-018add350ccb"
      },
      "outputs": [
        {
          "output_type": "stream",
          "name": "stdout",
          "text": [
            "[( 2, 87) ( 2, 99) ( 3, 28) ( 3, 62) ( 4, 31) ( 4, 60) ( 5, 70) ( 5, 72)\n",
            " ( 7, 51) ( 7, 85) (11, 24) (11, 46) (24, 46) (24, 54) (24, 90) (28, 32)\n",
            " (28, 62) (28, 90) (29, 45) (29, 81) (31, 60) (32, 90) (33, 46) (33, 92)\n",
            " (45, 81) (46, 92) (51, 85) (54, 90) (70, 72) (87, 99)]\n"
          ]
        }
      ],
      "source": [
        "faces = np.random.randint(0,100,(10,3))\n",
        "F = np.roll(faces.repeat(2,axis=1),-1,axis=1)\n",
        "F = F.reshape(len(F)*3,2)\n",
        "F = np.sort(F,axis=1)\n",
        "G = F.view( dtype=[('p0',F.dtype),('p1',F.dtype)] )\n",
        "G = np.unique(G)\n",
        "print(G)"
      ]
    },
    {
      "cell_type": "markdown",
      "id": "a76c55a2",
      "metadata": {
        "id": "a76c55a2"
      },
      "source": [
        "#### 74. Given a sorted array C that corresponds to a bincount, how to produce an array A such that np.bincount(A) == C? (★★★)"
      ]
    },
    {
      "cell_type": "code",
      "execution_count": 54,
      "id": "2d2ae65a",
      "metadata": {
        "id": "2d2ae65a",
        "colab": {
          "base_uri": "https://localhost:8080/"
        },
        "outputId": "66812ea2-4639-4a16-cc4e-8452c5f91d88"
      },
      "outputs": [
        {
          "output_type": "stream",
          "name": "stdout",
          "text": [
            "[1 1 2 3 4 4 6]\n"
          ]
        }
      ],
      "source": [
        "C = np.bincount([1,1,2,3,4,4,6])\n",
        "A = np.repeat(np.arange(len(C)), C)\n",
        "print(A)"
      ]
    },
    {
      "cell_type": "markdown",
      "id": "d550c8e2",
      "metadata": {
        "id": "d550c8e2"
      },
      "source": [
        "#### 75. How to compute averages using a sliding window over an array? (★★★)"
      ]
    },
    {
      "cell_type": "code",
      "execution_count": 55,
      "id": "841c457c",
      "metadata": {
        "id": "841c457c",
        "colab": {
          "base_uri": "https://localhost:8080/"
        },
        "outputId": "976f976e-c43e-4fb1-f1a3-3ab2a86746cb"
      },
      "outputs": [
        {
          "output_type": "stream",
          "name": "stdout",
          "text": [
            "[ 1.  2.  3.  4.  5.  6.  7.  8.  9. 10. 11. 12. 13. 14. 15. 16. 17. 18.]\n",
            "[ 1.  2.  3.  4.  5.  6.  7.  8.  9. 10. 11. 12. 13. 14. 15. 16. 17. 18.]\n"
          ]
        }
      ],
      "source": [
        "def moving_average(a, n=3) :\n",
        "    ret = np.cumsum(a, dtype=float)\n",
        "    ret[n:] = ret[n:] - ret[:-n]\n",
        "    return ret[n - 1:] / n\n",
        "Z = np.arange(20)\n",
        "print(moving_average(Z, n=3))\n",
        "\n",
        "\n",
        "from numpy.lib.stride_tricks import sliding_window_view\n",
        "\n",
        "Z = np.arange(20)\n",
        "print(sliding_window_view(Z, window_shape=3).mean(axis=-1))"
      ]
    },
    {
      "cell_type": "markdown",
      "id": "6b170b00",
      "metadata": {
        "id": "6b170b00"
      },
      "source": [
        "#### 76. Consider a one-dimensional array Z, build a two-dimensional array whose first row is (Z[0],Z[1],Z[2]) and each subsequent row is  shifted by 1 (last row should be (Z[-3],Z[-2],Z[-1]) (★★★)"
      ]
    },
    {
      "cell_type": "code",
      "execution_count": 56,
      "id": "d9a0cf4e",
      "metadata": {
        "id": "d9a0cf4e",
        "colab": {
          "base_uri": "https://localhost:8080/"
        },
        "outputId": "64241fd6-b471-4741-98d4-a3fea6045dc3"
      },
      "outputs": [
        {
          "output_type": "stream",
          "name": "stdout",
          "text": [
            "[[0 1 2]\n",
            " [1 2 3]\n",
            " [2 3 4]\n",
            " [3 4 5]\n",
            " [4 5 6]\n",
            " [5 6 7]\n",
            " [6 7 8]\n",
            " [7 8 9]]\n",
            "[[0 1 2]\n",
            " [1 2 3]\n",
            " [2 3 4]\n",
            " [3 4 5]\n",
            " [4 5 6]\n",
            " [5 6 7]\n",
            " [6 7 8]\n",
            " [7 8 9]]\n"
          ]
        }
      ],
      "source": [
        "from numpy.lib import stride_tricks\n",
        "\n",
        "def rolling(a, window):\n",
        "    shape = (a.size - window + 1, window)\n",
        "    strides = (a.strides[0], a.strides[0])\n",
        "    return stride_tricks.as_strided(a, shape=shape, strides=strides)\n",
        "Z = rolling(np.arange(10), 3)\n",
        "print(Z)\n",
        "\n",
        "\n",
        "Z = np.arange(10)\n",
        "print(sliding_window_view(Z, window_shape=3))"
      ]
    },
    {
      "cell_type": "markdown",
      "id": "e94a5c1d",
      "metadata": {
        "id": "e94a5c1d"
      },
      "source": [
        "#### 77. How to negate a boolean, or to change the sign of a float inplace? (★★★)"
      ]
    },
    {
      "cell_type": "code",
      "execution_count": 57,
      "id": "c0f9504f",
      "metadata": {
        "id": "c0f9504f",
        "colab": {
          "base_uri": "https://localhost:8080/"
        },
        "outputId": "ff660f86-c565-4cd4-cf85-c0b26b43991c"
      },
      "outputs": [
        {
          "output_type": "execute_result",
          "data": {
            "text/plain": [
              "array([ 0.86654454,  0.32288158,  0.77027771, -0.10338562,  0.15961016,\n",
              "        0.80976528,  0.46104553, -0.79853939,  0.81498331,  0.62473744,\n",
              "        0.78664397, -0.97308537,  0.49353614,  0.45108112, -0.35721106,\n",
              "       -0.84954126,  0.12468908, -0.67057535,  0.04988277,  0.31734482,\n",
              "        0.18740731, -0.38886828, -0.51210834, -0.43846776, -0.01501555,\n",
              "       -0.63530796, -0.29986443, -0.41287115, -0.27149971, -0.45897217,\n",
              "       -0.48670168, -0.54630329,  0.83480229, -0.9463294 , -0.83353412,\n",
              "       -0.70722125, -0.67308668, -0.66090227, -0.6719807 ,  0.68360382,\n",
              "        0.92317696,  0.37623258, -0.72695649, -0.24200643,  0.33368995,\n",
              "       -0.90447775, -0.17326957, -0.95356641, -0.611707  ,  0.00902373,\n",
              "        0.270666  , -0.37731833,  0.79555663,  0.28420065,  0.38563845,\n",
              "       -0.83887435,  0.81680366,  0.99914159, -0.08660897, -0.0086151 ,\n",
              "        0.05608254,  0.59199248, -0.83465086,  0.87395767, -0.78570454,\n",
              "       -0.38150895,  0.97457737, -0.06308986, -0.71162687,  0.52536265,\n",
              "       -0.82482465,  0.68792309, -0.32256294, -0.81850876, -0.43841084,\n",
              "        0.02168039, -0.10812364,  0.08381728,  0.30932992,  0.43541282,\n",
              "        0.89491479,  0.0920221 ,  0.99181002,  0.60602232, -0.93188239,\n",
              "       -0.41542843, -0.3145456 ,  0.64804567,  0.15567016,  0.53214889,\n",
              "       -0.58605998,  0.32377466,  0.87406907, -0.52874904, -0.99081538,\n",
              "       -0.84012637, -0.39925452, -0.76218007,  0.8897053 , -0.67972938])"
            ]
          },
          "metadata": {},
          "execution_count": 57
        }
      ],
      "source": [
        "Z = np.random.randint(0,2,100)\n",
        "np.logical_not(Z, out=Z)\n",
        "\n",
        "Z = np.random.uniform(-1.0,1.0,100)\n",
        "np.negative(Z, out=Z)"
      ]
    },
    {
      "cell_type": "markdown",
      "id": "4eb8b5c1",
      "metadata": {
        "id": "4eb8b5c1"
      },
      "source": [
        "#### 78. Consider 2 sets of points P0,P1 describing lines (2d) and a point p, how to compute distance from p to each line i (P0[i],P1[i])? (★★★)"
      ]
    },
    {
      "cell_type": "code",
      "execution_count": 58,
      "id": "487f47ec",
      "metadata": {
        "id": "487f47ec",
        "colab": {
          "base_uri": "https://localhost:8080/"
        },
        "outputId": "63a3b85d-8d8f-41df-80ae-d9afd8c7cc46"
      },
      "outputs": [
        {
          "output_type": "stream",
          "name": "stdout",
          "text": [
            "[12.81200378  1.13738257 16.78467763  6.39178754  0.15322973  5.27034038\n",
            "  7.03935335  2.15130034 14.86785751  5.88530044]\n"
          ]
        }
      ],
      "source": [
        "def distance(P0, P1, p):\n",
        "    T = P1 - P0\n",
        "    L = (T**2).sum(axis=1)\n",
        "    U = -((P0[:,0]-p[...,0])*T[:,0] + (P0[:,1]-p[...,1])*T[:,1]) / L\n",
        "    U = U.reshape(len(U),1)\n",
        "    D = P0 + U*T - p\n",
        "    return np.sqrt((D**2).sum(axis=1))\n",
        "\n",
        "P0 = np.random.uniform(-10,10,(10,2))\n",
        "P1 = np.random.uniform(-10,10,(10,2))\n",
        "p  = np.random.uniform(-10,10,( 1,2))\n",
        "print(distance(P0, P1, p))"
      ]
    },
    {
      "cell_type": "markdown",
      "id": "3df99948",
      "metadata": {
        "id": "3df99948"
      },
      "source": [
        "#### 79. Consider 2 sets of points P0,P1 describing lines (2d) and a set of points P, how to compute distance from each point j (P[j]) to each line i (P0[i],P1[i])? (★★★)"
      ]
    },
    {
      "cell_type": "code",
      "execution_count": 59,
      "id": "dc2df37b",
      "metadata": {
        "id": "dc2df37b",
        "colab": {
          "base_uri": "https://localhost:8080/"
        },
        "outputId": "b0cf9bd4-177d-472a-e158-e3d26cae997f"
      },
      "outputs": [
        {
          "output_type": "stream",
          "name": "stdout",
          "text": [
            "[[ 1.65151093  4.21149077  1.35054766  2.48147993  5.51418786  0.95900207\n",
            "   2.74437359  7.82615042  6.68123069  1.6820999 ]\n",
            " [ 3.58601762 12.48066979  2.15789391  1.41014129 10.26613921 13.53417495\n",
            "  14.01322203  0.22880859  2.7651443   4.68324641]\n",
            " [ 8.43525066  9.54867267  7.73444977  1.51403578  1.16380706  6.59326088\n",
            "   4.82267172  5.45430808 14.13406561  8.69059719]\n",
            " [ 4.79632319  8.63338443  6.04082493  7.87197445  1.92617849  5.67623437\n",
            "   5.84901181  4.76266525  5.63698796  3.76824775]\n",
            " [ 0.79710586 10.8431456   2.17149483  4.99670245  5.89315218  9.62602015\n",
            "   9.90569331  2.66189564  1.51841923  0.29236936]\n",
            " [ 5.80775715  5.68884559  5.46436056  0.96128268  1.36513044  2.70640573\n",
            "   1.11799252  5.02851728 10.72092275  5.83997416]\n",
            " [ 7.86819978  5.47687887  7.61046515  3.19208355  0.72209161  4.01689137\n",
            "   2.62510688  2.93333475 12.44622462  7.82953844]\n",
            " [ 0.46676532  1.95187213  0.82668275  0.27623447  6.5123801   5.08440459\n",
            "   6.32402001  4.31695695  3.84320646  0.06100219]\n",
            " [ 9.30886913  5.30577656  9.11361639  4.76457308  2.18222086  4.92090567\n",
            "   3.66900451  1.45120442 13.64583817  9.21891149]\n",
            " [ 2.48856445  0.8240939   2.78161581  1.171453    4.50722346  3.08188938\n",
            "   4.2685787   3.26289283  5.92846744  2.11464929]]\n"
          ]
        }
      ],
      "source": [
        "P0 = np.random.uniform(-10, 10, (10,2))\n",
        "P1 = np.random.uniform(-10,10,(10,2))\n",
        "p = np.random.uniform(-10, 10, (10,2))\n",
        "print(np.array([distance(P0,P1,p_i) for p_i in p]))"
      ]
    },
    {
      "cell_type": "markdown",
      "id": "11e972c2",
      "metadata": {
        "id": "11e972c2"
      },
      "source": [
        "#### 80. Consider an arbitrary array, write a function that extract a subpart with a fixed shape and centered on a given element (pad with a `fill` value when necessary) (★★★)"
      ]
    },
    {
      "cell_type": "code",
      "execution_count": 60,
      "id": "0291247f",
      "metadata": {
        "id": "0291247f",
        "colab": {
          "base_uri": "https://localhost:8080/"
        },
        "outputId": "e7582bbc-6579-4982-de58-b8037078b990"
      },
      "outputs": [
        {
          "output_type": "stream",
          "name": "stdout",
          "text": [
            "[[2 9 9 0 4 3 6 1 6 0]\n",
            " [2 6 9 2 1 7 4 4 3 4]\n",
            " [0 3 9 1 0 4 2 3 6 3]\n",
            " [1 7 1 6 5 8 9 1 0 9]\n",
            " [6 0 4 4 0 5 3 9 6 1]\n",
            " [9 8 6 7 2 0 1 7 0 5]\n",
            " [2 5 4 7 4 5 5 3 0 2]\n",
            " [9 3 9 9 4 4 9 2 1 7]\n",
            " [7 0 9 0 7 2 3 8 7 0]\n",
            " [8 9 3 4 5 0 8 2 7 9]]\n",
            "[[0 0 0 0 0]\n",
            " [0 0 0 0 0]\n",
            " [0 0 0 0 0]\n",
            " [0 0 0 0 0]\n",
            " [0 0 0 0 0]]\n"
          ]
        }
      ],
      "source": [
        "Z = np.random.randint(0,10,(10,10))\n",
        "shape = (5,5)\n",
        "fill  = 0\n",
        "position = (1,1)\n",
        "\n",
        "R = np.ones(shape, dtype=Z.dtype)*fill\n",
        "P  = np.array(list(position)).astype(int)\n",
        "Rs = np.array(list(R.shape)).astype(int)\n",
        "Zs = np.array(list(Z.shape)).astype(int)\n",
        "\n",
        "R_start = np.zeros((len(shape),)).astype(int)\n",
        "R_stop  = np.array(list(shape)).astype(int)\n",
        "Z_start = (P-Rs//2)\n",
        "Z_stop  = (P+Rs//2)+Rs%2\n",
        "\n",
        "R_start = (R_start - np.minimum(Z_start,0)).tolist()\n",
        "Z_start = (np.maximum(Z_start,0)).tolist()\n",
        "R_stop = np.maximum(R_start, (R_stop - np.maximum(Z_stop-Zs,0))).tolist()\n",
        "Z_stop = (np.minimum(Z_stop,Zs)).tolist()\n",
        "\n",
        "r = [slice(start,stop) for start,stop in zip(R_start,R_stop)]\n",
        "z = [slice(start,stop) for start,stop in zip(Z_start,Z_stop)]\n",
        "\n",
        "print(Z)\n",
        "print(R)"
      ]
    },
    {
      "cell_type": "markdown",
      "id": "93cfeab3",
      "metadata": {
        "id": "93cfeab3"
      },
      "source": [
        "#### 81. Consider an array Z = [1,2,3,4,5,6,7,8,9,10,11,12,13,14], how to generate an array R = [[1,2,3,4], [2,3,4,5], [3,4,5,6], ..., [11,12,13,14]]? (★★★)"
      ]
    },
    {
      "cell_type": "code",
      "execution_count": 61,
      "id": "360de791",
      "metadata": {
        "id": "360de791",
        "colab": {
          "base_uri": "https://localhost:8080/"
        },
        "outputId": "514d290d-2eb8-44e6-85c7-cc8ead34c92d"
      },
      "outputs": [
        {
          "output_type": "stream",
          "name": "stdout",
          "text": [
            "[[ 1  2  3  4]\n",
            " [ 2  3  4  5]\n",
            " [ 3  4  5  6]\n",
            " [ 4  5  6  7]\n",
            " [ 5  6  7  8]\n",
            " [ 6  7  8  9]\n",
            " [ 7  8  9 10]\n",
            " [ 8  9 10 11]\n",
            " [ 9 10 11 12]\n",
            " [10 11 12 13]\n",
            " [11 12 13 14]]\n",
            "[[ 1  2  3  4]\n",
            " [ 2  3  4  5]\n",
            " [ 3  4  5  6]\n",
            " [ 4  5  6  7]\n",
            " [ 5  6  7  8]\n",
            " [ 6  7  8  9]\n",
            " [ 7  8  9 10]\n",
            " [ 8  9 10 11]\n",
            " [ 9 10 11 12]\n",
            " [10 11 12 13]\n",
            " [11 12 13 14]]\n"
          ]
        }
      ],
      "source": [
        "Z = np.arange(1,15,dtype=np.uint32)\n",
        "R = stride_tricks.as_strided(Z,(11,4),(4,4))\n",
        "print(R)\n",
        "\n",
        "Z = np.arange(1, 15, dtype=np.uint32)\n",
        "print(sliding_window_view(Z, window_shape=4))"
      ]
    },
    {
      "cell_type": "markdown",
      "id": "4c15ceff",
      "metadata": {
        "id": "4c15ceff"
      },
      "source": [
        "#### 82. Compute a matrix rank (★★★)"
      ]
    },
    {
      "cell_type": "code",
      "execution_count": 62,
      "id": "9a4272d2",
      "metadata": {
        "id": "9a4272d2",
        "colab": {
          "base_uri": "https://localhost:8080/"
        },
        "outputId": "f14e6586-254a-4e6a-d893-fd77cb3dd793"
      },
      "outputs": [
        {
          "output_type": "stream",
          "name": "stdout",
          "text": [
            "10\n"
          ]
        }
      ],
      "source": [
        "Z = np.random.uniform(0,1,(10,10))\n",
        "U, S, V = np.linalg.svd(Z)\n",
        "rank = np.sum(S > 1e-10)\n",
        "print(rank)"
      ]
    },
    {
      "cell_type": "markdown",
      "id": "1171cb84",
      "metadata": {
        "id": "1171cb84"
      },
      "source": [
        "#### 83. How to find the most frequent value in an array?"
      ]
    },
    {
      "cell_type": "code",
      "execution_count": 63,
      "id": "33e951c8",
      "metadata": {
        "id": "33e951c8",
        "colab": {
          "base_uri": "https://localhost:8080/"
        },
        "outputId": "2c3839e5-f404-441f-f7aa-bbacfd317c98"
      },
      "outputs": [
        {
          "output_type": "stream",
          "name": "stdout",
          "text": [
            "10\n"
          ]
        }
      ],
      "source": [
        "frequent = np.linalg.matrix_rank(Z)\n",
        "print(frequent)"
      ]
    },
    {
      "cell_type": "markdown",
      "id": "04f472aa",
      "metadata": {
        "id": "04f472aa"
      },
      "source": [
        "#### 84. Extract all the contiguous 3x3 blocks from a random 10x10 matrix (★★★)"
      ]
    },
    {
      "cell_type": "code",
      "execution_count": 64,
      "id": "7aade14a",
      "metadata": {
        "id": "7aade14a",
        "colab": {
          "base_uri": "https://localhost:8080/"
        },
        "outputId": "a92156aa-b1b0-4397-d193-2658bf2e7952"
      },
      "outputs": [
        {
          "output_type": "stream",
          "name": "stdout",
          "text": [
            "[[[[4 0 0]\n",
            "   [3 4 4]\n",
            "   [4 3 1]]\n",
            "\n",
            "  [[0 0 3]\n",
            "   [4 4 3]\n",
            "   [3 1 1]]\n",
            "\n",
            "  [[0 3 0]\n",
            "   [4 3 4]\n",
            "   [1 1 3]]\n",
            "\n",
            "  [[3 0 2]\n",
            "   [3 4 1]\n",
            "   [1 3 0]]\n",
            "\n",
            "  [[0 2 0]\n",
            "   [4 1 1]\n",
            "   [3 0 2]]\n",
            "\n",
            "  [[2 0 3]\n",
            "   [1 1 2]\n",
            "   [0 2 1]]\n",
            "\n",
            "  [[0 3 3]\n",
            "   [1 2 1]\n",
            "   [2 1 4]]\n",
            "\n",
            "  [[3 3 2]\n",
            "   [2 1 2]\n",
            "   [1 4 0]]]\n",
            "\n",
            "\n",
            " [[[3 4 4]\n",
            "   [4 3 1]\n",
            "   [4 0 1]]\n",
            "\n",
            "  [[4 4 3]\n",
            "   [3 1 1]\n",
            "   [0 1 0]]\n",
            "\n",
            "  [[4 3 4]\n",
            "   [1 1 3]\n",
            "   [1 0 4]]\n",
            "\n",
            "  [[3 4 1]\n",
            "   [1 3 0]\n",
            "   [0 4 0]]\n",
            "\n",
            "  [[4 1 1]\n",
            "   [3 0 2]\n",
            "   [4 0 1]]\n",
            "\n",
            "  [[1 1 2]\n",
            "   [0 2 1]\n",
            "   [0 1 2]]\n",
            "\n",
            "  [[1 2 1]\n",
            "   [2 1 4]\n",
            "   [1 2 0]]\n",
            "\n",
            "  [[2 1 2]\n",
            "   [1 4 0]\n",
            "   [2 0 2]]]\n",
            "\n",
            "\n",
            " [[[4 3 1]\n",
            "   [4 0 1]\n",
            "   [3 1 1]]\n",
            "\n",
            "  [[3 1 1]\n",
            "   [0 1 0]\n",
            "   [1 1 2]]\n",
            "\n",
            "  [[1 1 3]\n",
            "   [1 0 4]\n",
            "   [1 2 3]]\n",
            "\n",
            "  [[1 3 0]\n",
            "   [0 4 0]\n",
            "   [2 3 3]]\n",
            "\n",
            "  [[3 0 2]\n",
            "   [4 0 1]\n",
            "   [3 3 1]]\n",
            "\n",
            "  [[0 2 1]\n",
            "   [0 1 2]\n",
            "   [3 1 0]]\n",
            "\n",
            "  [[2 1 4]\n",
            "   [1 2 0]\n",
            "   [1 0 1]]\n",
            "\n",
            "  [[1 4 0]\n",
            "   [2 0 2]\n",
            "   [0 1 2]]]\n",
            "\n",
            "\n",
            " [[[4 0 1]\n",
            "   [3 1 1]\n",
            "   [3 0 4]]\n",
            "\n",
            "  [[0 1 0]\n",
            "   [1 1 2]\n",
            "   [0 4 0]]\n",
            "\n",
            "  [[1 0 4]\n",
            "   [1 2 3]\n",
            "   [4 0 4]]\n",
            "\n",
            "  [[0 4 0]\n",
            "   [2 3 3]\n",
            "   [0 4 1]]\n",
            "\n",
            "  [[4 0 1]\n",
            "   [3 3 1]\n",
            "   [4 1 0]]\n",
            "\n",
            "  [[0 1 2]\n",
            "   [3 1 0]\n",
            "   [1 0 3]]\n",
            "\n",
            "  [[1 2 0]\n",
            "   [1 0 1]\n",
            "   [0 3 4]]\n",
            "\n",
            "  [[2 0 2]\n",
            "   [0 1 2]\n",
            "   [3 4 1]]]\n",
            "\n",
            "\n",
            " [[[3 1 1]\n",
            "   [3 0 4]\n",
            "   [1 4 1]]\n",
            "\n",
            "  [[1 1 2]\n",
            "   [0 4 0]\n",
            "   [4 1 0]]\n",
            "\n",
            "  [[1 2 3]\n",
            "   [4 0 4]\n",
            "   [1 0 0]]\n",
            "\n",
            "  [[2 3 3]\n",
            "   [0 4 1]\n",
            "   [0 0 2]]\n",
            "\n",
            "  [[3 3 1]\n",
            "   [4 1 0]\n",
            "   [0 2 1]]\n",
            "\n",
            "  [[3 1 0]\n",
            "   [1 0 3]\n",
            "   [2 1 4]]\n",
            "\n",
            "  [[1 0 1]\n",
            "   [0 3 4]\n",
            "   [1 4 4]]\n",
            "\n",
            "  [[0 1 2]\n",
            "   [3 4 1]\n",
            "   [4 4 4]]]\n",
            "\n",
            "\n",
            " [[[3 0 4]\n",
            "   [1 4 1]\n",
            "   [1 2 4]]\n",
            "\n",
            "  [[0 4 0]\n",
            "   [4 1 0]\n",
            "   [2 4 4]]\n",
            "\n",
            "  [[4 0 4]\n",
            "   [1 0 0]\n",
            "   [4 4 4]]\n",
            "\n",
            "  [[0 4 1]\n",
            "   [0 0 2]\n",
            "   [4 4 2]]\n",
            "\n",
            "  [[4 1 0]\n",
            "   [0 2 1]\n",
            "   [4 2 3]]\n",
            "\n",
            "  [[1 0 3]\n",
            "   [2 1 4]\n",
            "   [2 3 2]]\n",
            "\n",
            "  [[0 3 4]\n",
            "   [1 4 4]\n",
            "   [3 2 4]]\n",
            "\n",
            "  [[3 4 1]\n",
            "   [4 4 4]\n",
            "   [2 4 2]]]\n",
            "\n",
            "\n",
            " [[[1 4 1]\n",
            "   [1 2 4]\n",
            "   [3 3 1]]\n",
            "\n",
            "  [[4 1 0]\n",
            "   [2 4 4]\n",
            "   [3 1 0]]\n",
            "\n",
            "  [[1 0 0]\n",
            "   [4 4 4]\n",
            "   [1 0 1]]\n",
            "\n",
            "  [[0 0 2]\n",
            "   [4 4 2]\n",
            "   [0 1 3]]\n",
            "\n",
            "  [[0 2 1]\n",
            "   [4 2 3]\n",
            "   [1 3 2]]\n",
            "\n",
            "  [[2 1 4]\n",
            "   [2 3 2]\n",
            "   [3 2 2]]\n",
            "\n",
            "  [[1 4 4]\n",
            "   [3 2 4]\n",
            "   [2 2 3]]\n",
            "\n",
            "  [[4 4 4]\n",
            "   [2 4 2]\n",
            "   [2 3 4]]]\n",
            "\n",
            "\n",
            " [[[1 2 4]\n",
            "   [3 3 1]\n",
            "   [4 1 0]]\n",
            "\n",
            "  [[2 4 4]\n",
            "   [3 1 0]\n",
            "   [1 0 1]]\n",
            "\n",
            "  [[4 4 4]\n",
            "   [1 0 1]\n",
            "   [0 1 2]]\n",
            "\n",
            "  [[4 4 2]\n",
            "   [0 1 3]\n",
            "   [1 2 3]]\n",
            "\n",
            "  [[4 2 3]\n",
            "   [1 3 2]\n",
            "   [2 3 3]]\n",
            "\n",
            "  [[2 3 2]\n",
            "   [3 2 2]\n",
            "   [3 3 1]]\n",
            "\n",
            "  [[3 2 4]\n",
            "   [2 2 3]\n",
            "   [3 1 2]]\n",
            "\n",
            "  [[2 4 2]\n",
            "   [2 3 4]\n",
            "   [1 2 3]]]]\n",
            "[[[[0 2 2]\n",
            "   [3 0 4]\n",
            "   [4 4 0]]\n",
            "\n",
            "  [[2 2 0]\n",
            "   [0 4 0]\n",
            "   [4 0 3]]\n",
            "\n",
            "  [[2 0 0]\n",
            "   [4 0 0]\n",
            "   [0 3 3]]\n",
            "\n",
            "  [[0 0 3]\n",
            "   [0 0 4]\n",
            "   [3 3 3]]\n",
            "\n",
            "  [[0 3 1]\n",
            "   [0 4 4]\n",
            "   [3 3 2]]\n",
            "\n",
            "  [[3 1 3]\n",
            "   [4 4 3]\n",
            "   [3 2 1]]\n",
            "\n",
            "  [[1 3 3]\n",
            "   [4 3 3]\n",
            "   [2 1 0]]\n",
            "\n",
            "  [[3 3 3]\n",
            "   [3 3 2]\n",
            "   [1 0 1]]]\n",
            "\n",
            "\n",
            " [[[3 0 4]\n",
            "   [4 4 0]\n",
            "   [3 1 4]]\n",
            "\n",
            "  [[0 4 0]\n",
            "   [4 0 3]\n",
            "   [1 4 4]]\n",
            "\n",
            "  [[4 0 0]\n",
            "   [0 3 3]\n",
            "   [4 4 1]]\n",
            "\n",
            "  [[0 0 4]\n",
            "   [3 3 3]\n",
            "   [4 1 0]]\n",
            "\n",
            "  [[0 4 4]\n",
            "   [3 3 2]\n",
            "   [1 0 2]]\n",
            "\n",
            "  [[4 4 3]\n",
            "   [3 2 1]\n",
            "   [0 2 4]]\n",
            "\n",
            "  [[4 3 3]\n",
            "   [2 1 0]\n",
            "   [2 4 0]]\n",
            "\n",
            "  [[3 3 2]\n",
            "   [1 0 1]\n",
            "   [4 0 2]]]\n",
            "\n",
            "\n",
            " [[[4 4 0]\n",
            "   [3 1 4]\n",
            "   [2 1 0]]\n",
            "\n",
            "  [[4 0 3]\n",
            "   [1 4 4]\n",
            "   [1 0 3]]\n",
            "\n",
            "  [[0 3 3]\n",
            "   [4 4 1]\n",
            "   [0 3 0]]\n",
            "\n",
            "  [[3 3 3]\n",
            "   [4 1 0]\n",
            "   [3 0 3]]\n",
            "\n",
            "  [[3 3 2]\n",
            "   [1 0 2]\n",
            "   [0 3 3]]\n",
            "\n",
            "  [[3 2 1]\n",
            "   [0 2 4]\n",
            "   [3 3 1]]\n",
            "\n",
            "  [[2 1 0]\n",
            "   [2 4 0]\n",
            "   [3 1 3]]\n",
            "\n",
            "  [[1 0 1]\n",
            "   [4 0 2]\n",
            "   [1 3 2]]]\n",
            "\n",
            "\n",
            " [[[3 1 4]\n",
            "   [2 1 0]\n",
            "   [4 0 2]]\n",
            "\n",
            "  [[1 4 4]\n",
            "   [1 0 3]\n",
            "   [0 2 1]]\n",
            "\n",
            "  [[4 4 1]\n",
            "   [0 3 0]\n",
            "   [2 1 0]]\n",
            "\n",
            "  [[4 1 0]\n",
            "   [3 0 3]\n",
            "   [1 0 1]]\n",
            "\n",
            "  [[1 0 2]\n",
            "   [0 3 3]\n",
            "   [0 1 1]]\n",
            "\n",
            "  [[0 2 4]\n",
            "   [3 3 1]\n",
            "   [1 1 1]]\n",
            "\n",
            "  [[2 4 0]\n",
            "   [3 1 3]\n",
            "   [1 1 4]]\n",
            "\n",
            "  [[4 0 2]\n",
            "   [1 3 2]\n",
            "   [1 4 1]]]\n",
            "\n",
            "\n",
            " [[[2 1 0]\n",
            "   [4 0 2]\n",
            "   [1 0 4]]\n",
            "\n",
            "  [[1 0 3]\n",
            "   [0 2 1]\n",
            "   [0 4 2]]\n",
            "\n",
            "  [[0 3 0]\n",
            "   [2 1 0]\n",
            "   [4 2 1]]\n",
            "\n",
            "  [[3 0 3]\n",
            "   [1 0 1]\n",
            "   [2 1 3]]\n",
            "\n",
            "  [[0 3 3]\n",
            "   [0 1 1]\n",
            "   [1 3 3]]\n",
            "\n",
            "  [[3 3 1]\n",
            "   [1 1 1]\n",
            "   [3 3 3]]\n",
            "\n",
            "  [[3 1 3]\n",
            "   [1 1 4]\n",
            "   [3 3 1]]\n",
            "\n",
            "  [[1 3 2]\n",
            "   [1 4 1]\n",
            "   [3 1 2]]]\n",
            "\n",
            "\n",
            " [[[4 0 2]\n",
            "   [1 0 4]\n",
            "   [4 4 4]]\n",
            "\n",
            "  [[0 2 1]\n",
            "   [0 4 2]\n",
            "   [4 4 0]]\n",
            "\n",
            "  [[2 1 0]\n",
            "   [4 2 1]\n",
            "   [4 0 4]]\n",
            "\n",
            "  [[1 0 1]\n",
            "   [2 1 3]\n",
            "   [0 4 4]]\n",
            "\n",
            "  [[0 1 1]\n",
            "   [1 3 3]\n",
            "   [4 4 2]]\n",
            "\n",
            "  [[1 1 1]\n",
            "   [3 3 3]\n",
            "   [4 2 4]]\n",
            "\n",
            "  [[1 1 4]\n",
            "   [3 3 1]\n",
            "   [2 4 1]]\n",
            "\n",
            "  [[1 4 1]\n",
            "   [3 1 2]\n",
            "   [4 1 1]]]\n",
            "\n",
            "\n",
            " [[[1 0 4]\n",
            "   [4 4 4]\n",
            "   [1 4 0]]\n",
            "\n",
            "  [[0 4 2]\n",
            "   [4 4 0]\n",
            "   [4 0 4]]\n",
            "\n",
            "  [[4 2 1]\n",
            "   [4 0 4]\n",
            "   [0 4 1]]\n",
            "\n",
            "  [[2 1 3]\n",
            "   [0 4 4]\n",
            "   [4 1 0]]\n",
            "\n",
            "  [[1 3 3]\n",
            "   [4 4 2]\n",
            "   [1 0 1]]\n",
            "\n",
            "  [[3 3 3]\n",
            "   [4 2 4]\n",
            "   [0 1 1]]\n",
            "\n",
            "  [[3 3 1]\n",
            "   [2 4 1]\n",
            "   [1 1 3]]\n",
            "\n",
            "  [[3 1 2]\n",
            "   [4 1 1]\n",
            "   [1 3 4]]]\n",
            "\n",
            "\n",
            " [[[4 4 4]\n",
            "   [1 4 0]\n",
            "   [2 2 1]]\n",
            "\n",
            "  [[4 4 0]\n",
            "   [4 0 4]\n",
            "   [2 1 0]]\n",
            "\n",
            "  [[4 0 4]\n",
            "   [0 4 1]\n",
            "   [1 0 4]]\n",
            "\n",
            "  [[0 4 4]\n",
            "   [4 1 0]\n",
            "   [0 4 1]]\n",
            "\n",
            "  [[4 4 2]\n",
            "   [1 0 1]\n",
            "   [4 1 0]]\n",
            "\n",
            "  [[4 2 4]\n",
            "   [0 1 1]\n",
            "   [1 0 3]]\n",
            "\n",
            "  [[2 4 1]\n",
            "   [1 1 3]\n",
            "   [0 3 0]]\n",
            "\n",
            "  [[4 1 1]\n",
            "   [1 3 4]\n",
            "   [3 0 2]]]]\n"
          ]
        }
      ],
      "source": [
        "Z = np.random.randint(0,5,(10,10))\n",
        "n = 3\n",
        "i = 1 + (Z.shape[0]-3)\n",
        "j = 1 + (Z.shape[1]-3)\n",
        "C = stride_tricks.as_strided(Z, shape=(i, j, n, n), strides=Z.strides + Z.strides)\n",
        "print(C)\n",
        "\n",
        "Z = np.random.randint(0,5,(10,10))\n",
        "print(sliding_window_view(Z, window_shape=(3, 3)))"
      ]
    },
    {
      "cell_type": "markdown",
      "id": "52836346",
      "metadata": {
        "id": "52836346"
      },
      "source": [
        "#### 85. Create a 2D array subclass such that Z[i,j] == Z[j,i] (★★★)"
      ]
    },
    {
      "cell_type": "code",
      "execution_count": 65,
      "id": "4df70318",
      "metadata": {
        "id": "4df70318",
        "colab": {
          "base_uri": "https://localhost:8080/"
        },
        "outputId": "33ef23ef-bfe9-43e0-81a6-f0b154ebd604"
      },
      "outputs": [
        {
          "output_type": "stream",
          "name": "stdout",
          "text": [
            "[[ 2 10 14  9 10]\n",
            " [10  5  5 11  6]\n",
            " [14  5  2 42 14]\n",
            " [ 9 11 42  8 10]\n",
            " [10  6 14 10  4]]\n"
          ]
        }
      ],
      "source": [
        "class Symetric(np.ndarray):\n",
        "    def __setitem__(self, index, value):\n",
        "        i,j = index\n",
        "        super(Symetric, self).__setitem__((i,j), value)\n",
        "        super(Symetric, self).__setitem__((j,i), value)\n",
        "\n",
        "def symetric(Z):\n",
        "    return np.asarray(Z + Z.T - np.diag(Z.diagonal())).view(Symetric)\n",
        "\n",
        "S = symetric(np.random.randint(0,10,(5,5)))\n",
        "S[2,3] = 42\n",
        "print(S)"
      ]
    },
    {
      "cell_type": "markdown",
      "id": "78c43ee5",
      "metadata": {
        "id": "78c43ee5"
      },
      "source": [
        "#### 86. Consider a set of p matrices with shape (n,n) and a set of p vectors with shape (n,1). How to compute the sum of of the p matrix products at once? (result has shape (n,1)) (★★★)"
      ]
    },
    {
      "cell_type": "code",
      "execution_count": 66,
      "id": "32fd2c3b",
      "metadata": {
        "id": "32fd2c3b",
        "colab": {
          "base_uri": "https://localhost:8080/"
        },
        "outputId": "b0e3a876-e00a-4607-d651-aa52f8c54b2e"
      },
      "outputs": [
        {
          "output_type": "stream",
          "name": "stdout",
          "text": [
            "[[200.]\n",
            " [200.]\n",
            " [200.]\n",
            " [200.]\n",
            " [200.]\n",
            " [200.]\n",
            " [200.]\n",
            " [200.]\n",
            " [200.]\n",
            " [200.]\n",
            " [200.]\n",
            " [200.]\n",
            " [200.]\n",
            " [200.]\n",
            " [200.]\n",
            " [200.]\n",
            " [200.]\n",
            " [200.]\n",
            " [200.]\n",
            " [200.]]\n"
          ]
        }
      ],
      "source": [
        "p, n = 10, 20\n",
        "M = np.ones((p,n,n))\n",
        "V = np.ones((p,n,1))\n",
        "S = np.tensordot(M, V, axes=[[0, 2], [0, 1]])\n",
        "print(S)"
      ]
    },
    {
      "cell_type": "markdown",
      "id": "158f9945",
      "metadata": {
        "id": "158f9945"
      },
      "source": [
        "#### 87. Consider a 16x16 array, how to get the block-sum (block size is 4x4)? (★★★)"
      ]
    },
    {
      "cell_type": "code",
      "execution_count": 67,
      "id": "5a9b808f",
      "metadata": {
        "id": "5a9b808f",
        "colab": {
          "base_uri": "https://localhost:8080/"
        },
        "outputId": "c729d09f-bdbb-4f96-bebc-99ac55f4da4e"
      },
      "outputs": [
        {
          "output_type": "stream",
          "name": "stdout",
          "text": [
            "[[16. 16. 16. 16.]\n",
            " [16. 16. 16. 16.]\n",
            " [16. 16. 16. 16.]\n",
            " [16. 16. 16. 16.]]\n",
            "[[16. 16. 16. 16.]\n",
            " [16. 16. 16. 16.]\n",
            " [16. 16. 16. 16.]\n",
            " [16. 16. 16. 16.]]\n"
          ]
        }
      ],
      "source": [
        "Z = np.ones((16,16))\n",
        "k = 4\n",
        "S = np.add.reduceat(np.add.reduceat(Z, np.arange(0, Z.shape[0], k), axis=0),\n",
        "                                       np.arange(0, Z.shape[1], k), axis=1)\n",
        "print(S)\n",
        "\n",
        "Z = np.ones((16,16))\n",
        "k = 4\n",
        "\n",
        "windows = np.lib.stride_tricks.sliding_window_view(Z, (k, k))\n",
        "S = windows[::k, ::k, ...].sum(axis=(-2, -1))\n",
        "\n",
        "Z = np.ones((16, 16))\n",
        "k = 4\n",
        "print(sliding_window_view(Z, window_shape=(k, k))[::k, ::k].sum(axis=(-2, -1)))"
      ]
    },
    {
      "cell_type": "markdown",
      "id": "2e0ad860",
      "metadata": {
        "id": "2e0ad860"
      },
      "source": [
        "#### 88. How to implement the Game of Life using numpy arrays? (★★★)"
      ]
    },
    {
      "cell_type": "code",
      "execution_count": 68,
      "id": "574acff5",
      "metadata": {
        "id": "574acff5",
        "colab": {
          "base_uri": "https://localhost:8080/"
        },
        "outputId": "0d6be73e-fd58-4d9e-c510-46519aa48227"
      },
      "outputs": [
        {
          "output_type": "stream",
          "name": "stdout",
          "text": [
            "[[0 0 0 ... 0 0 0]\n",
            " [0 0 0 ... 0 0 0]\n",
            " [0 0 0 ... 0 0 0]\n",
            " ...\n",
            " [0 0 0 ... 0 0 0]\n",
            " [0 0 0 ... 0 0 0]\n",
            " [0 0 0 ... 0 0 0]]\n"
          ]
        }
      ],
      "source": [
        "def iterate(Z):\n",
        "    N = (Z[0:-2,0:-2] + Z[0:-2,1:-1] + Z[0:-2,2:] +\n",
        "         Z[1:-1,0:-2]                + Z[1:-1,2:] +\n",
        "         Z[2:  ,0:-2] + Z[2:  ,1:-1] + Z[2:  ,2:])\n",
        "\n",
        "    birth = (N==3) & (Z[1:-1,1:-1]==0)\n",
        "    survive = ((N==2) | (N==3)) & (Z[1:-1,1:-1]==1)\n",
        "    Z[...] = 0\n",
        "    Z[1:-1,1:-1][birth | survive] = 1\n",
        "    return Z\n",
        "\n",
        "Z = np.random.randint(0,2,(50,50))\n",
        "for i in range(100): Z = iterate(Z)\n",
        "print(Z)"
      ]
    },
    {
      "cell_type": "markdown",
      "id": "69a892fa",
      "metadata": {
        "id": "69a892fa"
      },
      "source": [
        "#### 89. How to get the n largest values of an array (★★★)"
      ]
    },
    {
      "cell_type": "code",
      "execution_count": 69,
      "id": "21b2bd48",
      "metadata": {
        "id": "21b2bd48",
        "colab": {
          "base_uri": "https://localhost:8080/",
          "height": 106
        },
        "outputId": "483a7dc2-8982-4eaa-9e41-85847b127ca1"
      },
      "outputs": [
        {
          "output_type": "error",
          "ename": "SyntaxError",
          "evalue": "invalid syntax. Perhaps you forgot a comma? (<ipython-input-69-824d05997b6f>, line 9)",
          "traceback": [
            "\u001b[0;36m  File \u001b[0;32m\"<ipython-input-69-824d05997b6f>\"\u001b[0;36m, line \u001b[0;32m9\u001b[0m\n\u001b[0;31m    [9995 9996 9997 9998 9999]\u001b[0m\n\u001b[0m     ^\u001b[0m\n\u001b[0;31mSyntaxError\u001b[0m\u001b[0;31m:\u001b[0m invalid syntax. Perhaps you forgot a comma?\n"
          ]
        }
      ],
      "source": [
        "Z = np.arange(10000)\n",
        "np.random.shuffle(Z)\n",
        "n = 5\n",
        "\n",
        "print (Z[np.argsort(Z)[-n:]])\n",
        "\n",
        "print (Z[np.argpartition(-Z,n)[:n]])\n",
        "\n",
        "[9995 9996 9997 9998 9999]\n",
        "[9995 9999 9997 9996 9998]"
      ]
    },
    {
      "cell_type": "markdown",
      "id": "b55ccacc",
      "metadata": {
        "id": "b55ccacc"
      },
      "source": [
        "#### 90. Given an arbitrary number of vectors, build the cartesian product (every combinations of every item) (★★★)"
      ]
    },
    {
      "cell_type": "code",
      "execution_count": 70,
      "id": "4b645da4",
      "metadata": {
        "id": "4b645da4",
        "colab": {
          "base_uri": "https://localhost:8080/"
        },
        "outputId": "9a940d28-a281-43b7-a03a-cd8bbe857ebe"
      },
      "outputs": [
        {
          "output_type": "stream",
          "name": "stdout",
          "text": [
            "[[1 4 6]\n",
            " [1 4 7]\n",
            " [1 5 6]\n",
            " [1 5 7]\n",
            " [2 4 6]\n",
            " [2 4 7]\n",
            " [2 5 6]\n",
            " [2 5 7]\n",
            " [3 4 6]\n",
            " [3 4 7]\n",
            " [3 5 6]\n",
            " [3 5 7]]\n"
          ]
        }
      ],
      "source": [
        "def cartesian(arrays):\n",
        "    arrays = [np.asarray(a) for a in arrays]\n",
        "    shape = (len(x) for x in arrays)\n",
        "\n",
        "    ix = np.indices(shape, dtype=int)\n",
        "    ix = ix.reshape(len(arrays), -1).T\n",
        "\n",
        "    for n, arr in enumerate(arrays):\n",
        "        ix[:, n] = arrays[n][ix[:, n]]\n",
        "\n",
        "    return ix\n",
        "print (cartesian(([1, 2, 3], [4, 5], [6, 7])))"
      ]
    },
    {
      "cell_type": "markdown",
      "id": "89187a23",
      "metadata": {
        "id": "89187a23"
      },
      "source": [
        "#### 91. How to create a record array from a regular array? (★★★)"
      ]
    },
    {
      "cell_type": "code",
      "execution_count": 71,
      "id": "da94c71a",
      "metadata": {
        "id": "da94c71a",
        "colab": {
          "base_uri": "https://localhost:8080/"
        },
        "outputId": "effd7166-86b5-42a3-d5b1-6fc0d5da9f99"
      },
      "outputs": [
        {
          "output_type": "stream",
          "name": "stdout",
          "text": [
            "[(b'Hello', 2.5, 3) (b'World', 3.6, 2)]\n"
          ]
        }
      ],
      "source": [
        "Z = np.array([(\"Hello\", 2.5, 3),\n",
        "              (\"World\", 3.6, 2)])\n",
        "R = np.core.records.fromarrays(Z.T,\n",
        "                               names='col1, col2, col3',\n",
        "                               formats = 'S8, f8, i8')\n",
        "print(R)"
      ]
    },
    {
      "cell_type": "markdown",
      "id": "aa70d4ca",
      "metadata": {
        "id": "aa70d4ca"
      },
      "source": [
        "#### 92. Consider a large vector Z, compute Z to the power of 3 using 3 different methods (★★★)"
      ]
    },
    {
      "cell_type": "code",
      "execution_count": 75,
      "id": "7cff1bf5",
      "metadata": {
        "id": "7cff1bf5",
        "colab": {
          "base_uri": "https://localhost:8080/"
        },
        "outputId": "4fe54345-e99e-4c44-c426-97edc845c656"
      },
      "outputs": [
        {
          "output_type": "stream",
          "name": "stdout",
          "text": [
            "Computation completed successfully.\n"
          ]
        }
      ],
      "source": [
        "Z = np.random.rand(1000000)\n",
        "Z_power_1 = Z ** 3\n",
        "\n",
        "Z_power_2 = np.power(Z, 3)\n",
        "\n",
        "Z_power_3 = np.multiply(np.multiply(Z, Z), Z)\n",
        "\n",
        "assert np.allclose(Z_power_1, Z_power_2)\n",
        "assert np.allclose(Z_power_1, Z_power_3)\n",
        "\n",
        "print(\"Computation completed successfully.\")\n",
        "\n"
      ]
    },
    {
      "cell_type": "markdown",
      "id": "5f79dd00",
      "metadata": {
        "id": "5f79dd00"
      },
      "source": [
        "#### 93. Consider two arrays A and B of shape (8,3) and (2,2). How to find rows of A that contain elements of each row of B regardless of the order of the elements in B? (★★★)"
      ]
    },
    {
      "cell_type": "code",
      "execution_count": 76,
      "id": "20c105b2",
      "metadata": {
        "id": "20c105b2",
        "colab": {
          "base_uri": "https://localhost:8080/"
        },
        "outputId": "a232f4fa-db4d-460c-9c59-f183b34274e3"
      },
      "outputs": [
        {
          "output_type": "stream",
          "name": "stdout",
          "text": [
            "[2 5 6]\n"
          ]
        }
      ],
      "source": [
        "A = np.random.randint(0,5,(8,3))\n",
        "B = np.random.randint(0,5,(2,2))\n",
        "\n",
        "C = (A[..., np.newaxis, np.newaxis] == B)\n",
        "rows = np.where(C.any((3,1)).all(1))[0]\n",
        "print(rows)"
      ]
    },
    {
      "cell_type": "markdown",
      "id": "a80570cd",
      "metadata": {
        "id": "a80570cd"
      },
      "source": [
        "#### 94. Considering a 10x3 matrix, extract rows with unequal values (e.g. [2,2,3]) (★★★)"
      ]
    },
    {
      "cell_type": "code",
      "execution_count": 77,
      "id": "84db8de1",
      "metadata": {
        "id": "84db8de1",
        "colab": {
          "base_uri": "https://localhost:8080/"
        },
        "outputId": "ce5f9fc9-080c-4980-9033-67b518e6c590"
      },
      "outputs": [
        {
          "output_type": "stream",
          "name": "stdout",
          "text": [
            "[[3 2 2]\n",
            " [0 4 0]\n",
            " [3 2 4]\n",
            " [2 4 3]\n",
            " [4 4 1]\n",
            " [3 0 2]\n",
            " [4 3 1]\n",
            " [4 1 3]\n",
            " [4 4 0]\n",
            " [1 3 1]]\n",
            "[[3 2 2]\n",
            " [0 4 0]\n",
            " [3 2 4]\n",
            " [2 4 3]\n",
            " [4 4 1]\n",
            " [3 0 2]\n",
            " [4 3 1]\n",
            " [4 1 3]\n",
            " [4 4 0]\n",
            " [1 3 1]]\n",
            "[[3 2 2]\n",
            " [0 4 0]\n",
            " [3 2 4]\n",
            " [2 4 3]\n",
            " [4 4 1]\n",
            " [3 0 2]\n",
            " [4 3 1]\n",
            " [4 1 3]\n",
            " [4 4 0]\n",
            " [1 3 1]]\n"
          ]
        }
      ],
      "source": [
        "Z = np.random.randint(0,5,(10,3))\n",
        "print(Z)\n",
        "E = np.all(Z[:,1:] == Z[:,:-1], axis=1)\n",
        "U = Z[~E]\n",
        "print(U)\n",
        "U = Z[Z.max(axis=1) != Z.min(axis=1),:]\n",
        "print(U)"
      ]
    },
    {
      "cell_type": "markdown",
      "id": "ba154f43",
      "metadata": {
        "id": "ba154f43"
      },
      "source": [
        "#### 95. Convert a vector of ints into a matrix binary representation (★★★)"
      ]
    },
    {
      "cell_type": "code",
      "execution_count": 78,
      "id": "cfa96e1b",
      "metadata": {
        "id": "cfa96e1b",
        "colab": {
          "base_uri": "https://localhost:8080/"
        },
        "outputId": "19dfcddb-e215-49c6-98d8-2abb7aff8edf"
      },
      "outputs": [
        {
          "output_type": "stream",
          "name": "stdout",
          "text": [
            "[[0 0 0 0 0 0 0 0]\n",
            " [0 0 0 0 0 0 0 1]\n",
            " [0 0 0 0 0 0 1 0]\n",
            " [0 0 0 0 0 0 1 1]\n",
            " [0 0 0 0 1 1 1 1]\n",
            " [0 0 0 1 0 0 0 0]\n",
            " [0 0 1 0 0 0 0 0]\n",
            " [0 1 0 0 0 0 0 0]\n",
            " [1 0 0 0 0 0 0 0]]\n",
            "[[0 0 0 0 0 0 0 0]\n",
            " [0 0 0 0 0 0 0 1]\n",
            " [0 0 0 0 0 0 1 0]\n",
            " [0 0 0 0 0 0 1 1]\n",
            " [0 0 0 0 1 1 1 1]\n",
            " [0 0 0 1 0 0 0 0]\n",
            " [0 0 1 0 0 0 0 0]\n",
            " [0 1 0 0 0 0 0 0]\n",
            " [1 0 0 0 0 0 0 0]]\n"
          ]
        }
      ],
      "source": [
        "I = np.array([0, 1, 2, 3, 15, 16, 32, 64, 128])\n",
        "B = ((I.reshape(-1,1) & (2**np.arange(8))) != 0).astype(int)\n",
        "print(B[:,::-1])\n",
        "\n",
        "I = np.array([0, 1, 2, 3, 15, 16, 32, 64, 128], dtype=np.uint8)\n",
        "print(np.unpackbits(I[:, np.newaxis], axis=1))"
      ]
    },
    {
      "cell_type": "markdown",
      "id": "420e2343",
      "metadata": {
        "id": "420e2343"
      },
      "source": [
        "#### 96. Given a two dimensional array, how to extract unique rows? (★★★)"
      ]
    },
    {
      "cell_type": "code",
      "execution_count": 79,
      "id": "4680dfd0",
      "metadata": {
        "id": "4680dfd0",
        "colab": {
          "base_uri": "https://localhost:8080/"
        },
        "outputId": "86319674-14e2-4550-9c05-006a613abb6b"
      },
      "outputs": [
        {
          "output_type": "stream",
          "name": "stdout",
          "text": [
            "[[0 0 0]\n",
            " [0 1 0]\n",
            " [1 0 1]]\n",
            "[[0 0 0]\n",
            " [0 1 0]\n",
            " [1 0 1]]\n"
          ]
        }
      ],
      "source": [
        "Z = np.random.randint(0,2,(6,3))\n",
        "T = np.ascontiguousarray(Z).view(np.dtype((np.void, Z.dtype.itemsize * Z.shape[1])))\n",
        "_, idx = np.unique(T, return_index=True)\n",
        "uZ = Z[idx]\n",
        "print(uZ)\n",
        "\n",
        "uZ = np.unique(Z, axis=0)\n",
        "print(uZ)"
      ]
    },
    {
      "cell_type": "markdown",
      "id": "89fef2f3",
      "metadata": {
        "id": "89fef2f3"
      },
      "source": [
        "#### 97. Considering 2 vectors A & B, write the einsum equivalent of inner, outer, sum, and mul function (★★★)"
      ]
    },
    {
      "cell_type": "code",
      "execution_count": 84,
      "id": "bb9c14b2",
      "metadata": {
        "id": "bb9c14b2",
        "colab": {
          "base_uri": "https://localhost:8080/"
        },
        "outputId": "da7b5ebf-6b73-42cf-8e07-9df5ac1d9f42"
      },
      "outputs": [
        {
          "output_type": "execute_result",
          "data": {
            "text/plain": [
              "array([[0.46007053, 0.56165943, 0.14765577, 0.60683754, 0.82002439,\n",
              "        0.05465215, 0.09549165, 0.29921783, 0.90511107, 0.16641426],\n",
              "       [0.01553836, 0.01896941, 0.00498691, 0.02049525, 0.0276954 ,\n",
              "        0.00184581, 0.00322512, 0.01010574, 0.03056911, 0.00562045],\n",
              "       [0.26675296, 0.32565511, 0.08561212, 0.35184978, 0.4754574 ,\n",
              "        0.0316878 , 0.05536691, 0.17348915, 0.52479141, 0.09648846],\n",
              "       [0.35848534, 0.43764306, 0.11505286, 0.47284569, 0.63896013,\n",
              "        0.04258476, 0.07440676, 0.23314949, 0.70525938, 0.12966941],\n",
              "       [0.30080417, 0.36722521, 0.09654057, 0.39676365, 0.53614987,\n",
              "        0.03573277, 0.06243453, 0.19563516, 0.5917814 , 0.10880528],\n",
              "       [0.43506508, 0.53113249, 0.13963048, 0.57385512, 0.77545497,\n",
              "        0.05168173, 0.09030156, 0.28295494, 0.85591708, 0.15736942],\n",
              "       [0.29040908, 0.35453477, 0.09320435, 0.38305242, 0.51762178,\n",
              "        0.03449793, 0.06027694, 0.18887446, 0.57133082, 0.10504522],\n",
              "       [0.3685652 , 0.44994867, 0.1182879 , 0.48614112, 0.65692635,\n",
              "        0.04378215, 0.07649892, 0.23970516, 0.72508979, 0.13331544],\n",
              "       [0.03500704, 0.042737  , 0.01123521, 0.04617462, 0.06239614,\n",
              "        0.00415851, 0.00726602, 0.02276766, 0.06887043, 0.01266256],\n",
              "       [0.35636749, 0.43505756, 0.11437315, 0.47005222, 0.63518529,\n",
              "        0.04233318, 0.07396718, 0.23177209, 0.70109285, 0.12890335]])"
            ]
          },
          "metadata": {},
          "execution_count": 84
        }
      ],
      "source": [
        "A = np.random.uniform(0,1,10)\n",
        "B = np.random.uniform(0,1,10)\n",
        "\n",
        "np.einsum('i->', A)\n",
        "np.einsum('i,i->i', A, B)\n",
        "np.einsum('i,i', A, B)\n",
        "np.einsum('i,j->ij', A, B)"
      ]
    },
    {
      "cell_type": "markdown",
      "id": "7ad5cc5f",
      "metadata": {
        "id": "7ad5cc5f"
      },
      "source": [
        "#### 98. Considering a path described by two vectors (X,Y), how to sample it using equidistant samples (★★★)?"
      ]
    },
    {
      "cell_type": "code",
      "execution_count": 85,
      "id": "0899d1d5",
      "metadata": {
        "id": "0899d1d5"
      },
      "outputs": [],
      "source": [
        "phi = np.arange(0, 10*np.pi, 0.1)\n",
        "a = 1\n",
        "x = a*phi*np.cos(phi)\n",
        "y = a*phi*np.sin(phi)\n",
        "\n",
        "dr = (np.diff(x)**2 + np.diff(y)**2)**.5\n",
        "r = np.zeros_like(x)\n",
        "r[1:] = np.cumsum(dr)\n",
        "r_int = np.linspace(0, r.max(), 200)\n",
        "x_int = np.interp(r_int, r, x)\n",
        "y_int = np.interp(r_int, r, y)\n"
      ]
    },
    {
      "cell_type": "markdown",
      "id": "2b69272e",
      "metadata": {
        "id": "2b69272e"
      },
      "source": [
        "#### 99. Given an integer n and a 2D array X, select from X the rows which can be interpreted as draws from a multinomial distribution with n degrees, i.e., the rows which only contain integers and which sum to n. (★★★)"
      ]
    },
    {
      "cell_type": "code",
      "execution_count": 82,
      "id": "55c8b034",
      "metadata": {
        "id": "55c8b034",
        "colab": {
          "base_uri": "https://localhost:8080/"
        },
        "outputId": "57409d27-1948-4942-cb3e-a0572de2eace"
      },
      "outputs": [
        {
          "output_type": "stream",
          "name": "stdout",
          "text": [
            "[[2. 0. 1. 1.]]\n"
          ]
        }
      ],
      "source": [
        "X = np.asarray([[1.0, 0.0, 3.0, 8.0],\n",
        "                [2.0, 0.0, 1.0, 1.0],\n",
        "                [1.5, 2.5, 1.0, 0.0]])\n",
        "n = 4\n",
        "M = np.logical_and.reduce(np.mod(X, 1) == 0, axis=-1)\n",
        "M &= (X.sum(axis=-1) == n)\n",
        "print(X[M])"
      ]
    },
    {
      "cell_type": "markdown",
      "id": "59ab5516",
      "metadata": {
        "id": "59ab5516"
      },
      "source": [
        "#### 100. Compute bootstrapped 95% confidence intervals for the mean of a 1D array X (i.e., resample the elements of an array with replacement N times, compute the mean of each sample, and then compute percentiles over the means). (★★★)"
      ]
    },
    {
      "cell_type": "code",
      "execution_count": 83,
      "id": "450877d8",
      "metadata": {
        "id": "450877d8",
        "colab": {
          "base_uri": "https://localhost:8080/"
        },
        "outputId": "85a1393e-c1d7-4592-aaff-e0eee792ae77"
      },
      "outputs": [
        {
          "output_type": "stream",
          "name": "stdout",
          "text": [
            "[-0.24054732  0.15406604]\n"
          ]
        }
      ],
      "source": [
        "X = np.random.randn(100)\n",
        "N = 1000\n",
        "idx = np.random.randint(0, X.size, (N, X.size))\n",
        "means = X[idx].mean(axis=1)\n",
        "confint = np.percentile(means, [2.5, 97.5])\n",
        "print(confint)"
      ]
    }
  ],
  "metadata": {
    "colab": {
      "provenance": []
    },
    "language_info": {
      "name": "python"
    },
    "kernelspec": {
      "name": "python3",
      "display_name": "Python 3"
    }
  },
  "nbformat": 4,
  "nbformat_minor": 5
}