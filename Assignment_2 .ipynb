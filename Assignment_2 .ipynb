{
  "nbformat": 4,
  "nbformat_minor": 0,
  "metadata": {
    "colab": {
      "provenance": []
    },
    "kernelspec": {
      "name": "python3",
      "display_name": "Python 3"
    },
    "language_info": {
      "name": "python"
    }
  },
  "cells": [
    {
      "cell_type": "markdown",
      "source": [
        "**Write a Python function to perform linear search on a list**"
      ],
      "metadata": {
        "id": "zICmOr3xM7P3"
      }
    },
    {
      "cell_type": "code",
      "source": [
        "def linear_search(List,item):\n",
        "    found=False\n",
        "    for i in List:\n",
        "        if i==item:\n",
        "            found=True\n",
        "            break\n",
        "    return found\n",
        "item=10\n",
        "List=[1,2,3,4,10,5,7]\n",
        "print(\"found!\" if linear_search(List,item) else \"not found!\")"
      ],
      "metadata": {
        "id": "OHAie4ZsNkge",
        "colab": {
          "base_uri": "https://localhost:8080/"
        },
        "outputId": "5f695555-6366-4071-d19f-708c2bd608d7"
      },
      "execution_count": 5,
      "outputs": [
        {
          "output_type": "stream",
          "name": "stdout",
          "text": [
            "found!\n"
          ]
        }
      ]
    },
    {
      "cell_type": "markdown",
      "source": [
        "**Modify the function to return the index of all occurrences of the search element.\n",
        "t**"
      ],
      "metadata": {
        "id": "9gt2NeSINAee"
      }
    },
    {
      "cell_type": "code",
      "source": [
        "def all_index(List,item):\n",
        "    for i in range(len(List)):\n",
        "        if List[i]==item:\n",
        "            print(\"index \",i)\n",
        "\n",
        "item=2\n",
        "List=[1,2,2,2,3,3,4,2]\n",
        "all_index(List,item)"
      ],
      "metadata": {
        "id": "Drr34lZZNlcd",
        "colab": {
          "base_uri": "https://localhost:8080/"
        },
        "outputId": "0aa715e2-89d7-4138-ce59-185b7eaa96c9"
      },
      "execution_count": 6,
      "outputs": [
        {
          "output_type": "stream",
          "name": "stdout",
          "text": [
            "index  1\n",
            "index  2\n",
            "index  3\n",
            "index  7\n"
          ]
        }
      ]
    },
    {
      "cell_type": "markdown",
      "source": [
        "**Create a program to find the maximum element in a list using linear search.**"
      ],
      "metadata": {
        "id": "15VW81ZmNnYt"
      }
    },
    {
      "cell_type": "code",
      "source": [
        "List=[10,4,55,88,101,30]\n",
        "max=List[0]\n",
        "for i in List:\n",
        "    if i>max:\n",
        "        max=i\n",
        "print(max)"
      ],
      "metadata": {
        "id": "Cv04SYmZNvfU",
        "colab": {
          "base_uri": "https://localhost:8080/"
        },
        "outputId": "45143722-d857-4be4-9d97-6062329eae68"
      },
      "execution_count": 7,
      "outputs": [
        {
          "output_type": "stream",
          "name": "stdout",
          "text": [
            "101\n"
          ]
        }
      ]
    },
    {
      "cell_type": "markdown",
      "source": [
        "**Implement binary search iteratively in Python**"
      ],
      "metadata": {
        "id": "CC1d9lWHNy4G"
      }
    },
    {
      "cell_type": "code",
      "source": [
        "List=[1,2,3,4,5,6,7,8,9,10]\n",
        "item=5\n",
        "Start=0\n",
        "End=len(List)\n",
        "Middle=(Start+End)//2\n",
        "while Start<End and Middle!=item:\n",
        "    if List[Middle] > item:\n",
        "        End=Middle-1\n",
        "    else :\n",
        "        Start=Middle+1\n",
        "    Middle=(Start+End)//2\n",
        "print(\"found!\" if Middle == item else \"not found!\")"
      ],
      "metadata": {
        "id": "qNlprj2ON2sN",
        "colab": {
          "base_uri": "https://localhost:8080/"
        },
        "outputId": "e192b1da-e50d-46d3-cc7a-12b89885a483"
      },
      "execution_count": 8,
      "outputs": [
        {
          "output_type": "stream",
          "name": "stdout",
          "text": [
            "found!\n"
          ]
        }
      ]
    },
    {
      "cell_type": "markdown",
      "source": [
        "**Implement binary search recursively in Python**"
      ],
      "metadata": {
        "id": "zdFByPpjN9VF"
      }
    },
    {
      "cell_type": "code",
      "source": [
        "def binary_search(List,item,start=0,end=len(List)):\n",
        "    middle=(start+end)//2\n",
        "    if start>=end:\n",
        "        return False\n",
        "    if List[middle]==item and start<end:\n",
        "        return True\n",
        "    if List[middle]>item:\n",
        "        return binary_search(List,item,start,middle-1)\n",
        "    if List[middle]<item:\n",
        "        return binary_search(List,item,middle+1,end)\n",
        "List=[1,2,3,4,5,6,7,8,9]\n",
        "item=9\n",
        "print(\"found!\" if binary_search(List,item) else \"not found!\")"
      ],
      "metadata": {
        "id": "-ukDAxmLOAh9",
        "colab": {
          "base_uri": "https://localhost:8080/"
        },
        "outputId": "32bac50d-0b18-4516-ce77-3acf87786c4f"
      },
      "execution_count": 9,
      "outputs": [
        {
          "output_type": "stream",
          "name": "stdout",
          "text": [
            "found!\n"
          ]
        }
      ]
    },
    {
      "cell_type": "markdown",
      "source": [
        "**Write a program to check if a list is sorted in ascending order using binary search**"
      ],
      "metadata": {
        "id": "XfCbhOl7ODkc"
      }
    },
    {
      "cell_type": "code",
      "source": [
        "def is_sorted_ascending(lst):\n",
        "    left = 0\n",
        "    right = len(lst) - 1\n",
        "\n",
        "    while left < right:\n",
        "        mid = (left + right) // 2\n",
        "\n",
        "        if lst[mid] < lst[left]:\n",
        "            right = mid\n",
        "        elif lst[mid] > lst[right]:\n",
        "            left = mid + 1\n",
        "        else:\n",
        "            return True\n",
        "\n",
        "    return False\n",
        "\n",
        "List1 = [1, 2, 3, 4, 5]\n",
        "List2 = [5, 2, 3, 1, 4]\n",
        "\n",
        "print(is_sorted_ascending(List1))\n",
        "print(is_sorted_ascending(List2))"
      ],
      "metadata": {
        "id": "f4I1O1IhOGEd",
        "colab": {
          "base_uri": "https://localhost:8080/"
        },
        "outputId": "3cabe73c-bc55-41d1-c36a-792e6e9f9b20"
      },
      "execution_count": 10,
      "outputs": [
        {
          "output_type": "stream",
          "name": "stdout",
          "text": [
            "True\n",
            "False\n"
          ]
        }
      ]
    },
    {
      "cell_type": "markdown",
      "source": [
        "**Write a Python program to calculate the factorial of a number using a for loop**"
      ],
      "metadata": {
        "id": "5AxShFTYOI90"
      }
    },
    {
      "cell_type": "code",
      "source": [
        "number=int(input(\"enter a number!\"))\n",
        "res=1\n",
        "for i in range(number,0,-1):\n",
        "    res*=i\n",
        "print(res)"
      ],
      "metadata": {
        "id": "klPJU-ktOL99",
        "colab": {
          "base_uri": "https://localhost:8080/"
        },
        "outputId": "259ee95a-57e9-4644-a81c-97a81d85ffed"
      },
      "execution_count": 12,
      "outputs": [
        {
          "output_type": "stream",
          "name": "stdout",
          "text": [
            "enter a number!6\n",
            "720\n"
          ]
        }
      ]
    },
    {
      "cell_type": "markdown",
      "source": [
        "**Create a program to generate the Fibonacci sequence up to a certain number of terms using a for loop**"
      ],
      "metadata": {
        "id": "zSD3eH32OOzk"
      }
    },
    {
      "cell_type": "code",
      "source": [
        "number=int(input(\"enter a number!\"))\n",
        "first=0\n",
        "second=1\n",
        "next_term=first+second\n",
        "print(first,\",\",second,\",\",next_term,\",\",end=\"\")\n",
        "for i in range(number-3):\n",
        "    first=second\n",
        "    second=next_term\n",
        "    next_term=first+second\n",
        "    if i!=number-4:\n",
        "        print(next_term,\",\",end=\"\")\n",
        "    else:\n",
        "        print(next_term)"
      ],
      "metadata": {
        "id": "dz4mWwn-OSG0",
        "colab": {
          "base_uri": "https://localhost:8080/"
        },
        "outputId": "080a4946-094a-48a7-aba2-3b8e4871c8aa"
      },
      "execution_count": 13,
      "outputs": [
        {
          "output_type": "stream",
          "name": "stdout",
          "text": [
            "enter a number!8\n",
            "0 , 1 , 1 ,2 ,3 ,5 ,8 ,13\n"
          ]
        }
      ]
    },
    {
      "cell_type": "markdown",
      "source": [
        "**Write a function to compute the sum of all elements in a list using a for loop**"
      ],
      "metadata": {
        "id": "e7q768hsOUvs"
      }
    },
    {
      "cell_type": "code",
      "source": [
        "# first way\n",
        "List=[1,2,3,4,5,6,7,8,9]\n",
        "print(sum(List))"
      ],
      "metadata": {
        "id": "hbJ3q5GDOXc0",
        "colab": {
          "base_uri": "https://localhost:8080/"
        },
        "outputId": "1e50430b-513c-42a7-9531-e15b4b2b52b9"
      },
      "execution_count": 14,
      "outputs": [
        {
          "output_type": "stream",
          "name": "stdout",
          "text": [
            "45\n"
          ]
        }
      ]
    },
    {
      "cell_type": "code",
      "source": [
        "# seocnd way\n",
        "List=[1,2,3,4,5,6,7,8,9]\n",
        "sum=0\n",
        "for i in List:\n",
        "    sum+=i\n",
        "print(sum)"
      ],
      "metadata": {
        "colab": {
          "base_uri": "https://localhost:8080/"
        },
        "id": "JqEvbZZtI6EO",
        "outputId": "ec5c74d6-02a7-43be-db77-e4ee762d1120"
      },
      "execution_count": 15,
      "outputs": [
        {
          "output_type": "stream",
          "name": "stdout",
          "text": [
            "45\n"
          ]
        }
      ]
    },
    {
      "cell_type": "markdown",
      "source": [
        "**Write a Python function to check if a number is prime**"
      ],
      "metadata": {
        "id": "Xc87j9nmObmM"
      }
    },
    {
      "cell_type": "code",
      "source": [
        "def is_prime(number):\n",
        "    IsPrime=True\n",
        "    if number>=2:\n",
        "        for i in range(2,number):\n",
        "            if number%i==0:\n",
        "                IsPrime=False\n",
        "                break\n",
        "    else :\n",
        "        IsPrime=False\n",
        "    return IsPrime\n",
        "number=int(input(\"enter a number!\"))\n",
        "if is_prime(number):\n",
        "    print(\"prime!\")\n",
        "else :\n",
        "    print(\"not prime!\")"
      ],
      "metadata": {
        "id": "VmxNLFacOfFk",
        "colab": {
          "base_uri": "https://localhost:8080/"
        },
        "outputId": "aee20257-698d-495d-8c46-1b0f84b423d6"
      },
      "execution_count": 17,
      "outputs": [
        {
          "output_type": "stream",
          "name": "stdout",
          "text": [
            "enter a number!3\n",
            "prime!\n"
          ]
        }
      ]
    },
    {
      "cell_type": "markdown",
      "source": [
        "**Create a function to reverse a string using recursion**"
      ],
      "metadata": {
        "id": "fPpLblWXOhDU"
      }
    },
    {
      "cell_type": "code",
      "source": [
        "def reverse_string(string, new_string=\"\"):\n",
        "    if not string:\n",
        "        return new_string\n",
        "    new_string += string[-1]\n",
        "    return reverse_string(string[:-1], new_string)\n",
        "\n",
        "string = \"seif\"\n",
        "print(reverse_string(string))"
      ],
      "metadata": {
        "id": "ysB4Q620Oj40",
        "colab": {
          "base_uri": "https://localhost:8080/"
        },
        "outputId": "e3804251-8333-4450-e221-1fa4f7202f6f"
      },
      "execution_count": 18,
      "outputs": [
        {
          "output_type": "stream",
          "name": "stdout",
          "text": [
            "fies\n"
          ]
        }
      ]
    },
    {
      "cell_type": "markdown",
      "source": [
        "**Write a program that takes a list of integers and returns the largest number using a function**"
      ],
      "metadata": {
        "id": "4qLP9xYTOltk"
      }
    },
    {
      "cell_type": "code",
      "source": [
        "def find_largest(List):\n",
        "    largest_number=List[0]\n",
        "    for i in List:\n",
        "        if largest_number<i:\n",
        "            largest_number=i\n",
        "    return largest_number\n",
        "List=[1,66,22,33,77,33]\n",
        "print(find_largest(List))"
      ],
      "metadata": {
        "id": "9wJQseoeOnis",
        "colab": {
          "base_uri": "https://localhost:8080/"
        },
        "outputId": "e4161cb1-a3d5-4da2-87c2-70270e07047c"
      },
      "execution_count": 19,
      "outputs": [
        {
          "output_type": "stream",
          "name": "stdout",
          "text": [
            "77\n"
          ]
        }
      ]
    },
    {
      "cell_type": "markdown",
      "source": [
        "**Implement selection sort using a function and demonstrate its usage**"
      ],
      "metadata": {
        "id": "2ds4zQmGOpv0"
      }
    },
    {
      "cell_type": "code",
      "source": [
        "def swap(List,number1,number2):\n",
        "    temp=List[number1]\n",
        "    List[number1]=List[number2]\n",
        "    List[number2]=temp\n",
        "def selection_sort(List):\n",
        "    for i in range(len(List)):\n",
        "        Min=i\n",
        "        for j in range(i+1,len(List)):\n",
        "            if List[j]<List[Min]:\n",
        "                Min=j\n",
        "        if Min!=i:\n",
        "            swap(List,Min,i)\n",
        "    return List\n",
        "List=[4,3,2,6,1,44,33,22]\n",
        "print(selection_sort(List))"
      ],
      "metadata": {
        "id": "rYSs7DnOasEJ",
        "colab": {
          "base_uri": "https://localhost:8080/"
        },
        "outputId": "6eb67799-fbdb-40a7-a0b2-077f4522082c"
      },
      "execution_count": 20,
      "outputs": [
        {
          "output_type": "stream",
          "name": "stdout",
          "text": [
            "[1, 2, 3, 4, 6, 22, 33, 44]\n"
          ]
        }
      ]
    },
    {
      "cell_type": "markdown",
      "source": [
        "**Create a program that uses a function to find the intersection of two lists.**"
      ],
      "metadata": {
        "id": "9d9LdXoRatvh"
      }
    },
    {
      "cell_type": "code",
      "source": [
        "def find_intersection(List1,List2):\n",
        "    new_list=[]\n",
        "    for i in List1:\n",
        "        for j in List2:\n",
        "            if i == j :\n",
        "                new_list.append(i)\n",
        "    return new_list\n",
        "\n",
        "List1=[1,2,3,4,5]\n",
        "List2=[3,4,5,6,7]\n",
        "print(find_intersection(List1,List2))"
      ],
      "metadata": {
        "id": "r09e5Opsaw8Z",
        "colab": {
          "base_uri": "https://localhost:8080/"
        },
        "outputId": "c51c6d83-26f5-4f86-e9a4-6937d9f41fda"
      },
      "execution_count": 21,
      "outputs": [
        {
          "output_type": "stream",
          "name": "stdout",
          "text": [
            "[3, 4, 5]\n"
          ]
        }
      ]
    }
  ]
}